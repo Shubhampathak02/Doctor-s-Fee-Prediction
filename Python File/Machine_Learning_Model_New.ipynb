{
 "cells": [
  {
   "cell_type": "code",
   "execution_count": 1,
   "id": "19250380",
   "metadata": {},
   "outputs": [],
   "source": [
    "import pandas as pd\n",
    "import numpy as np\n",
    "import seaborn as sns \n",
    "import matplotlib.pyplot as plt"
   ]
  },
  {
   "cell_type": "code",
   "execution_count": 2,
   "id": "d595f95c",
   "metadata": {},
   "outputs": [],
   "source": [
    "pd.set_option('display.max_rows', None)"
   ]
  },
  {
   "cell_type": "code",
   "execution_count": 3,
   "id": "247e9256",
   "metadata": {},
   "outputs": [
    {
     "data": {
      "text/html": [
       "<div>\n",
       "<style scoped>\n",
       "    .dataframe tbody tr th:only-of-type {\n",
       "        vertical-align: middle;\n",
       "    }\n",
       "\n",
       "    .dataframe tbody tr th {\n",
       "        vertical-align: top;\n",
       "    }\n",
       "\n",
       "    .dataframe thead th {\n",
       "        text-align: right;\n",
       "    }\n",
       "</style>\n",
       "<table border=\"1\" class=\"dataframe\">\n",
       "  <thead>\n",
       "    <tr style=\"text-align: right;\">\n",
       "      <th></th>\n",
       "      <th>Speciality</th>\n",
       "      <th>Year_of_experience</th>\n",
       "      <th>Location</th>\n",
       "      <th>City</th>\n",
       "      <th>dp_score</th>\n",
       "      <th>consultation_fee</th>\n",
       "      <th>npv(votes)</th>\n",
       "      <th>Degree</th>\n",
       "    </tr>\n",
       "  </thead>\n",
       "  <tbody>\n",
       "    <tr>\n",
       "      <th>0</th>\n",
       "      <td>Dietitian/Nutritionist</td>\n",
       "      <td>4</td>\n",
       "      <td>Koramangala 7 Block</td>\n",
       "      <td>Bangalore</td>\n",
       "      <td>100</td>\n",
       "      <td>600</td>\n",
       "      <td>40</td>\n",
       "      <td>BSc</td>\n",
       "    </tr>\n",
       "    <tr>\n",
       "      <th>1</th>\n",
       "      <td>Dietitian/Nutritionist</td>\n",
       "      <td>14</td>\n",
       "      <td>Bandra West</td>\n",
       "      <td>Mumbai</td>\n",
       "      <td>96</td>\n",
       "      <td>2500</td>\n",
       "      <td>222</td>\n",
       "      <td>BSc</td>\n",
       "    </tr>\n",
       "    <tr>\n",
       "      <th>2</th>\n",
       "      <td>Dietitian/Nutritionist</td>\n",
       "      <td>16</td>\n",
       "      <td>Kandivali West</td>\n",
       "      <td>Mumbai</td>\n",
       "      <td>99</td>\n",
       "      <td>0</td>\n",
       "      <td>96</td>\n",
       "      <td>BSc</td>\n",
       "    </tr>\n",
       "    <tr>\n",
       "      <th>3</th>\n",
       "      <td>Dietitian/Nutritionist</td>\n",
       "      <td>15</td>\n",
       "      <td>Koramangala 3 Block</td>\n",
       "      <td>Bangalore</td>\n",
       "      <td>97</td>\n",
       "      <td>1770</td>\n",
       "      <td>270</td>\n",
       "      <td>BSc</td>\n",
       "    </tr>\n",
       "    <tr>\n",
       "      <th>4</th>\n",
       "      <td>Dietitian/Nutritionist</td>\n",
       "      <td>1</td>\n",
       "      <td>Koramangala 5 Block</td>\n",
       "      <td>Bangalore</td>\n",
       "      <td>99</td>\n",
       "      <td>600</td>\n",
       "      <td>121</td>\n",
       "      <td>BSc</td>\n",
       "    </tr>\n",
       "  </tbody>\n",
       "</table>\n",
       "</div>"
      ],
      "text/plain": [
       "               Speciality  Year_of_experience             Location       City  \\\n",
       "0  Dietitian/Nutritionist                   4  Koramangala 7 Block  Bangalore   \n",
       "1  Dietitian/Nutritionist                  14          Bandra West     Mumbai   \n",
       "2  Dietitian/Nutritionist                  16       Kandivali West     Mumbai   \n",
       "3  Dietitian/Nutritionist                  15  Koramangala 3 Block  Bangalore   \n",
       "4  Dietitian/Nutritionist                   1  Koramangala 5 Block  Bangalore   \n",
       "\n",
       "   dp_score  consultation_fee  npv(votes) Degree  \n",
       "0       100               600          40    BSc  \n",
       "1        96              2500         222    BSc  \n",
       "2        99                 0          96    BSc  \n",
       "3        97              1770         270    BSc  \n",
       "4        99               600         121    BSc  "
      ]
     },
     "execution_count": 3,
     "metadata": {},
     "output_type": "execute_result"
    }
   ],
   "source": [
    "df = pd.read_csv('Excel Files\\clean_practo_data.csv')\n",
    "df.head()"
   ]
  },
  {
   "cell_type": "code",
   "execution_count": 4,
   "id": "f1760ebc",
   "metadata": {},
   "outputs": [
    {
     "data": {
      "text/plain": [
       "(5970, 8)"
      ]
     },
     "execution_count": 4,
     "metadata": {},
     "output_type": "execute_result"
    }
   ],
   "source": [
    "df.shape"
   ]
  },
  {
   "cell_type": "code",
   "execution_count": 5,
   "id": "559dd0f2",
   "metadata": {},
   "outputs": [
    {
     "data": {
      "text/plain": [
       "9"
      ]
     },
     "execution_count": 5,
     "metadata": {},
     "output_type": "execute_result"
    }
   ],
   "source": [
    "df.duplicated().sum()"
   ]
  },
  {
   "cell_type": "code",
   "execution_count": 6,
   "id": "e4bad9e6",
   "metadata": {},
   "outputs": [],
   "source": [
    "df.drop_duplicates(inplace=True)"
   ]
  },
  {
   "cell_type": "code",
   "execution_count": 7,
   "id": "ab686958",
   "metadata": {},
   "outputs": [
    {
     "name": "stdout",
     "output_type": "stream",
     "text": [
      "<class 'pandas.core.frame.DataFrame'>\n",
      "Int64Index: 5961 entries, 0 to 5969\n",
      "Data columns (total 8 columns):\n",
      " #   Column              Non-Null Count  Dtype \n",
      "---  ------              --------------  ----- \n",
      " 0   Speciality          5961 non-null   object\n",
      " 1   Year_of_experience  5961 non-null   int64 \n",
      " 2   Location            5961 non-null   object\n",
      " 3   City                5961 non-null   object\n",
      " 4   dp_score            5961 non-null   int64 \n",
      " 5   consultation_fee    5961 non-null   int64 \n",
      " 6   npv(votes)          5961 non-null   int64 \n",
      " 7   Degree              5961 non-null   object\n",
      "dtypes: int64(4), object(4)\n",
      "memory usage: 419.1+ KB\n"
     ]
    }
   ],
   "source": [
    "df.info()"
   ]
  },
  {
   "cell_type": "code",
   "execution_count": 8,
   "id": "7f94763d",
   "metadata": {},
   "outputs": [
    {
     "name": "stdout",
     "output_type": "stream",
     "text": [
      "Speciality\n",
      "19\n",
      "['Dietitian/Nutritionist' 'Dentist' 'Physiotherapist' 'Chiropractor'\n",
      " 'Dermatologist' 'Gynecologist' 'Infertility Specialist' 'Pediatrician'\n",
      " 'Orthopedist' 'Pulmonologist' 'Cardiologist' 'Rheumatologist'\n",
      " 'Gastroenterologist' 'Neurologist' 'Bariatric Surgeon' 'Urologist'\n",
      " 'Neurosurgeon' 'Ophthalmologist' 'Psychiatrist']\n",
      "Year_of_experience\n",
      "60\n",
      "[ 4 14 16 15  1 23 27 22 19 33 17 31 30 25 13 18 24 28 21 11 20  9 12  8\n",
      "  7 44 34 10  5  6  2 26 29 32  3 36 40 46 43 39 42 50 35 38 51 45 47 41\n",
      " 37 58 54 48 52 61 49 53 64 57 56 59]\n",
      "Location\n",
      "451\n",
      "['Koramangala 7 Block' 'Bandra West' 'Kandivali West'\n",
      " 'Koramangala 3 Block' 'Koramangala 5 Block' 'Basaveshwaranagar'\n",
      " 'Vasant Kunj' 'Malleswaram' 'Malviya Nagar' 'Dwarka' 'Pitampura'\n",
      " 'HSR Layout' 'Jayanagar 4 Block' 'Sarjapur Road' 'Electronics City'\n",
      " 'Basavanagudi' 'Banaswadi' 'JP Nagar 6 Phase' 'Mahadevapura' 'Seegehalli'\n",
      " 'Whitefield' 'Sadashivanagar' 'Rajajinagar' 'Indiranagar' 'JP Nagar'\n",
      " 'Horamavu' 'Jayanagar 7 Block' 'Kasturi nagar' 'Domlur' 'Koramangala'\n",
      " 'West Of Chord Road' 'Varthur' 'Murugeshpalya' 'Singasandra' 'Yelahanka'\n",
      " 'HAL 2nd Stage' 'Hegde Nagar' 'Bannerghatta Road' 'Bellandur'\n",
      " 'Chandra Layout' 'Vidyaranyapura' 'BTM Layout 2nd Stage' 'Hennur'\n",
      " 'JP Nagar 5 Phase' 'Richmond Town' 'CV Raman Nagar'\n",
      " 'Banashankari 1st Stage' 'JP Nagar 2 Phase' 'Jalahalli' 'KR Puram'\n",
      " 'Ulsoor' 'Sahakaranagar' 'RT Nagar' 'Vijayanagar' 'Kundalahalli'\n",
      " 'Banashankari 3rd Stage' 'Jayanagar' 'Kaggadasapura' 'Wilson Garden'\n",
      " 'HRBR Layout' 'Yeshwanthpur' 'Munnekollal' 'Hebbal' 'Jeevanbhimanagar'\n",
      " 'Frazer Town' 'Ramamurthy Nagar' 'Upparahalli' 'Mathikere - BEL'\n",
      " 'Thanisandra' 'Lingarajapuram' 'Marathahalli' 'Belathur' 'Millers Road'\n",
      " 'Langford Road' 'Koramangala 4 Block' 'Harlur' 'BTM Layout 1st Stage'\n",
      " 'Kalyan Nagar' 'T Dasarahalli' 'Chamarajpet' 'Nagarbhavi' 'Bommanahalli'\n",
      " 'Vasanthnagar' 'Koramangala 1 Block' 'Hanumanthnagar' 'Hebbal Kempapura'\n",
      " 'JP Nagar 1 Phase' 'Jayanagar 2 Block' 'Kammana Halli' 'Viveknagar'\n",
      " 'Nagarbhavi 2nd Stage' 'JP Nagar 7 Phase' 'Brigade Road' 'Yelachenahalli'\n",
      " 'Bagalur' 'Begur' 'RMV 2nd Stage' 'Akshaya nagar' 'Yelahanka New Town'\n",
      " 'JP Nagar 3 Phase' 'Kanakpura Road' 'Sanjay Nagar' 'Hosur Road'\n",
      " 'Greater Kailash Part 2' 'Punjabi Bagh' 'Chattarpur' 'Mayur Vihar Ph-III'\n",
      " 'Sarita Vihar' 'Pusa Road' 'Patel Nagar West' 'Lajpat Nagar'\n",
      " 'Ashok Vihar' 'CR Park' 'Mukherjee Nagar' 'Karol Bagh' 'Vasant Vihar'\n",
      " 'Vikas Puri' 'Patparganj' 'Kalkaji' 'Vijaynagar' 'Alaknanda' 'Jangpura'\n",
      " 'Vishnu Garden' 'Katwaria Sarai' 'Kamla Nagar' 'Tilak Nagar'\n",
      " 'Rohini Sector 18' 'Mayur Vihar Ph-II' 'Rohini' 'Saket' 'Paschim Vihar'\n",
      " 'Dwarka Sector 7' 'Kilokri' 'South Extension 2' 'Defence Colony'\n",
      " 'Rohini Sector 7' 'Hari Nagar' 'Dwarka Sector 12' 'New Rajendra Nagar'\n",
      " 'Dwarka Sector 6' 'Kingsway Camp' 'Panchsheel Enclave' 'Gujranwala Town'\n",
      " 'Kirti Nagar' 'Rohini Sector 16' 'Durga Puri' 'Prashant Vihar'\n",
      " 'Mayur Vihar' 'Kapashera' 'Munirka' 'Shalimar Bagh' 'New Friends Colony'\n",
      " 'Rajouri Garden' 'Madangir' 'Vasundhra Enclave' 'Dilshad Garden'\n",
      " 'Karkardooma' 'Nangloi' 'Meera Bagh' 'Dwarka Sector 3' 'Okhla'\n",
      " 'Panchsheel Park' 'Dashrath Puri' 'Model Town 1' 'Rohini Sector 24'\n",
      " 'Safdarjung Enclave' 'Greater Kailash Part 1' 'Rohini Sector 15'\n",
      " 'Dwarka Sector 11' 'Dwarka Sector 19' 'Greater Kailash' 'RK Puram'\n",
      " 'Jagriti Enclave' 'Krishna Nagar' 'Janakpuri' 'Sukhdev Vihar' 'Khanpur'\n",
      " 'Laxmi Nagar' 'Kalyan Vihar' 'Uttam Nagar' 'Pandav Nagar' 'Zakir Nagar'\n",
      " 'Ghatkopar East' 'Matunga' 'Worli' 'Chembur' 'Vileparle East'\n",
      " 'Borivali West' 'Mulund West' 'Powai' 'Borivali East' 'Vileparle West'\n",
      " 'Prabhadevi' 'Dahisar East' 'Chembur East' 'Goregaon West' 'Versova'\n",
      " 'Kandivali East' 'Andheri West' 'Marol' 'Cumballa Hill' 'Lower Parel'\n",
      " 'Santacruz West' 'Ghatkopar' 'Nariman Point' 'Jacob Circle' 'Jogeshwari'\n",
      " 'Colaba' 'Kemps Corner' 'Oshiwara' 'Umerkhadi' 'Bhandup West'\n",
      " 'Mulund East' 'Fort' 'Malad' 'Andheri East' 'Wadala' 'Mira Bhayandar'\n",
      " 'Mira Road' 'Lokhandwala' 'Khar West' 'Tardeo' 'Peddar Road' 'Malad West'\n",
      " 'Goregaon East' 'Dadar West' 'Dadar East' 'Cuffe Parade' 'Matunga East'\n",
      " 'Juhu' 'Lamington Road' 'Walkeshwar' 'Chinchpokli' 'Sakinaka'\n",
      " 'Ghatkopar West' 'Parel' 'Girgaon' 'Vidyavihar' 'Govandi' 'Grant Road'\n",
      " 'Sion' 'Charni Road' 'Dahisar West' 'Opera House' 'Nagpada' 'Bhandup'\n",
      " 'Khetwadi' 'Kanjurmarg' 'Kurla West' 'Mahim' 'Santacruz East'\n",
      " 'Padmanabhanagar' 'Vikhroli West' 'Old Airport Road' 'Nagawara' 'Arekere'\n",
      " 'Sion West' 'Rajarajeshwarinagar' 'Anand Niketan' 'Old Rajendra Nagar'\n",
      " 'Nandini Layout' 'New BEL Road' 'Koramangala 8 Block' 'Bommasandra'\n",
      " 'Banashankari 2nd Stage' 'Jayanagar 5 Block' 'Brookefield' 'Gubbalala'\n",
      " 'New Thippasandra' 'Dwarka Sector 23' 'South Extension 1'\n",
      " 'Dwarka Sector 9' 'East Of Kailash' 'IP Extension' 'Lal baug'\n",
      " 'Turner Road' 'JB Nagar' 'Jayanagar 9 Block' 'Panathur' 'Kengeri'\n",
      " 'Jayanagar 3 Block' 'Sampangiramnagar' 'Chitra Vihar' 'Mazgaon'\n",
      " 'Chandivali' 'VV Puram' 'Sheikh Sarai' 'Mahalakshmi Layout' 'Tri Nagar'\n",
      " 'Shahdara' 'Malabar Hill' 'Green Park' 'Moti Nagar' 'HBR Layout' 'Jakkur'\n",
      " 'Kadugodi' 'Ramesh Nagar' 'Chanakyapuri' 'Dwarka Sector 22' 'Kothanur'\n",
      " 'Hoodi' 'Uttarahalli' 'Rohini Sector 8' 'Nizamuddin East' 'Siddapura'\n",
      " 'Kudlu' 'AECS Layout' 'JP Nagar 8 Phase' 'Yelenahalli' 'Ashoknagar'\n",
      " 'Preet Vihar' 'BTM Layout' 'Malleshpalya' 'Bilekahalli' 'Seshadripuram'\n",
      " 'Model Town 2' 'Shivaji Nagar' 'DLF Newtown' 'Doddanekundi'\n",
      " 'Tagore Garden' 'Mayur Vihar Ph-I' 'Rohini Sector 3' 'Jogeshwari East'\n",
      " 'Mira-Bhayandar Road' 'Kailash Colony' 'Kadubeesanahalli'\n",
      " 'Koramangala 6 Block' 'Jigani' 'Kasavanahalli' 'L B Sashtrinagar'\n",
      " 'Shantinagar' 'Sunkadakatte' 'Hulimavu' 'Nagasandra' 'Gulmohar Park'\n",
      " 'Jamia Nagar' 'Dadar' 'Malad East' 'Andheri' 'Hajiali' 'Borivali'\n",
      " 'Kandivali' 'Dhobi Talao' 'Peenya' 'Safdarjung Development Area'\n",
      " 'Dasarahalli' 'Mahipalpur' 'Churchgate' 'Linking Road' 'Anand Vihar'\n",
      " 'Patel Nagar' 'Vikhroli' 'Dwarka Sector 14' 'Hauz Khas' 'Rajanukunte'\n",
      " 'Siri Fort Road' 'Bandra' 'Ghitorni' 'Shastri Nagar' 'Mehrauli'\n",
      " 'Connaught Place' 'Banashankari' 'Shakti Nagar' 'Rohini Sector 11'\n",
      " 'Dwarka Sector 1' 'Chirag Delhi' 'HAL 3rd Stage' 'Nana Chowk'\n",
      " 'Magrath Road' 'Matunga West' 'Madhu Vihar' 'Model Town 3'\n",
      " 'Hazrat Nizamuddin' 'Naraina' 'Patel Nagar East' 'Lajpat Nagar 4'\n",
      " 'Azadpur' 'Kurla East' 'Kodichikkanahalli' 'Rana Pratap Bagh'\n",
      " 'Subhash Nagar' 'Mumbai Central' 'Burari' 'Bali Nagar' 'MG Road'\n",
      " 'Konanakunte' 'Bhattarahalli' 'Ashok Vihar Phase 3' 'Dwarka Sector 13'\n",
      " 'Gunjur' 'Mahavir Enclave' 'Vishwas Nagar' 'Bandra East' 'Surajmal Vihar'\n",
      " 'Kumara Park West' 'Doddakammanahalli' 'Naraina Vihar' 'Vikhroli East'\n",
      " 'Neb Sarai' 'Dwarka Sector 17' 'Chembur West' 'Dwarka Sector 8' 'Jasola'\n",
      " 'Harsh Vihar' 'Kalina' 'Rohini Sector 4' 'Paschim Puri' 'Sion East'\n",
      " 'Jogeshwari West' 'Pulikeshi Nagar' 'Okhla Industrial Estate' 'Mahalaxmi'\n",
      " 'Ram Nagar' 'Chira Bazaar' 'Vivek Vihar' 'Rohini Sector 9' 'Jhandewalan'\n",
      " 'Marine Lines' 'BEL Layout' 'Rohini Sector 5' 'Shivalik'\n",
      " 'Kumaraswamy Layout' 'Santacruz' 'Adarsh Nagar' 'Ashok Vihar Phase 1'\n",
      " 'Hongasandra' 'Avalahalli' 'Sarvodaya Enclave' 'Ram Vihar'\n",
      " 'Rohini Sector 22' 'Kurla' 'Ansari Nagar' 'Bhogal' 'Tuglakabad'\n",
      " 'Banashankari 6th Stage' 'Jayanagar 8 Block' 'Nelamangala'\n",
      " 'Rohini Sector 6' 'Gamdevi' 'Goregaon' 'Vinayaka Nagar'\n",
      " 'JP Nagar 9 Phase' 'Nehru Place' 'Marine Drive' 'Nirman Vihar' 'Dahisar'\n",
      " 'Mulund' 'Gulabi Bagh' 'Uday Park' 'Yojana Vihar' 'Maharani Bagh']\n",
      "City\n",
      "3\n",
      "['Bangalore' 'Mumbai' 'Delhi']\n",
      "dp_score\n",
      "61\n",
      "[100  96  99  97  92  98  94  93  91  95  88  89  84  90  80  86  85  75\n",
      "  78  70  81  83  82  87  73  66  79  37  67  72  77  65  68  74  62  56\n",
      "  76  63  35  27  18  71  60  58  64  50  47  29  69  54  55  46  57  40\n",
      "  53  30  41  61  59  43  38]\n",
      "consultation_fee\n",
      "71\n",
      "[ 600 2500    0 1770  850  300 1000  500  400  700  450  250  350  200\n",
      "  550  800  100  750  150  650 1500  950 1100 1200 2000 1250  499  390\n",
      "  375  669 1600  900 2800 1350 4000  860 1300  530 1150 3000 3500 1800\n",
      "  740 2200 1400 1700 2830 1050  699 1090 2350 1450 4100 2600 1850 2700\n",
      "  710  625 1750 2100 5000 2130 1550 3850 2400 1900 2300 3300  630  480\n",
      "  399]\n",
      "npv(votes)\n",
      "751\n",
      "[  40  222   96  270  121  117 1589  106  113  289  164  256   61  948\n",
      "  102   32  331  470  165  232  180   44 1103  211   18  586   89  563\n",
      "  694  122  306  265   85  293  108  447  230 2740  201  226  155  136\n",
      "  247  884  505   37   19  185  107  257   23   27  768 1512 1827   81\n",
      "  167   52   73   64  188   15 1295   16   90  311  110  114  413   95\n",
      "   50  895   55  507   45  807  209  184  238   20  100   39  355   31\n",
      "  116  294   82  111   62  140  133   42  192   47  142  194  212   67\n",
      "  198 1322   86   22   13   17   35   77   34   33  154   11  101  376\n",
      "   98   21   28   43   12   68  129  278  237  745  217  345  187   97\n",
      "  234  202  373   74  261  231  266  451   70  384  599  124  719  691\n",
      "   65  709  661   69  283  178  609  224   80   36  181  330  118   99\n",
      "   24  143  221  228   26  695  158  159  269  399  233  157  287   58\n",
      " 1510  410  394  667  566  183  193  160  139  243   93   46  166  304\n",
      "  189  175  128   53  817  148  812  343   84  132  105   72  298   49\n",
      "  236  137   14  253   41 1347  213  434   30   83  168  312  632  396\n",
      "  530  290  252  215  363  924 1003  414  608  443  481 1360  179  314\n",
      "  214  368  409   51  262  186  284  119  275  271  463  153  500  172\n",
      "   56  171  250  411  279  295  104  342  182  203  340   92  502   88\n",
      "  482  831  473   75  299  220  125  426  145   71   38  292   79   78\n",
      "  127  378  371  565  528  461  567  229  564  149   57  357  242   63\n",
      "  144   59   48   29  291  610  173  690  510   54  742  134  296  300\n",
      "  548  176  446  204  641  449  364 1480  162   66 1440  638  746  382\n",
      "  103 4289  460  216  365  582  386  208  196  135  277  877  163 1195\n",
      "  824  141  467  406  109  288  210  549  571  174  868  239  428  747\n",
      "  131  150  498  325  130  120  705  863  385  305 3937  776  344 1948\n",
      "  545  263  683  372  147  622  506  280 3309 2028  177  834  439  655\n",
      "  169  334  535 1532  843  525  707  471  374 2434  417  241  264  323\n",
      "  458  522  944 1394  387 1166  468  151  421  392  170  146  951  737\n",
      " 1045 2122 4356  307 1553  195  123  644  297  255  259 1623  646 1034\n",
      "  607  457  945  624  429 2730  958  893  358  191  347  302  626  152\n",
      " 1660 2142  612  932  316  309   60 1349  351  260  754  653  398 2490\n",
      "  390 1000  362  553 3811  847  268  931   91  997  504 1279  866  322\n",
      "  249  523   76  112  320 1277  339  697  354  115  301  962  755   87\n",
      "  258  156  415   94  223  246  588  346 2144   25  988 1608 1525  369\n",
      "  310 1073  218 1791 1269  639  540  621  332 1064  391  957 1654  569\n",
      "  245  326 1188  402 2505  763 1371 2253  557  940  678 1719  587  336\n",
      " 4900 1679 1022  687  308 1641  161  492  138 1770  488  923 1200  328\n",
      "  200  899  514 2354  628  313  779  756  435 2322  671  909  732  669\n",
      "  329  333 1755  190  743 3826 1402  546 1080 2959  303 1704  837  352\n",
      " 2699 1077  526  126  244  517 1210  235  361  934  367  464 1361  852\n",
      "  321  276  251  274  490 1011  412  416 1680 1649  642  750  532  438\n",
      "  633  640 2130  711 2743 1467  282 1385  907  891 1329  533  804 1219\n",
      "  240  395  547  559  225  425  281 8235  670  348 1001 3425 1063  508\n",
      "  440 1975 4161 5408 1187  495  930 5524  748  397  813  493 1462  858\n",
      "  630  603  474  736 1031 1042  534  881 1376 1194 1115 1071  197  521\n",
      "  720 1124 1233  759  593  955 2885 1578  977 1289  497  552  486 1224\n",
      "  594  408 1227 1383  286  450  598 1286  475  437  318  677  338  315\n",
      " 3358  602 1368 1300 1471  758  513 1246  581  838  205  605 2939  728\n",
      "  839 2523  485  543  666 1191  550 1750 1433  377  537  949  808  319\n",
      "  207 1384  520 2345  420  459  327  654 1564  617  317  254  662 1292\n",
      "  604 2298 1613  799  658  844 1262  366 1337 1213  448 1426  679  515\n",
      "  335  489 2299  359  592  674 2570 1514 1130 1344  424  855  555  476\n",
      "  576  922  407  718 2153 1208  575  227  619  551  579 2204  827  723\n",
      "  651 1338  433  591  903  487 3683  814 1028]\n",
      "Degree\n",
      "30\n",
      "['BSc' 'BAMS' 'BDS' 'MDS' 'PhD' 'BHMS' 'BNYS' 'BPTh/BPT' 'MPTh/MPT'\n",
      " 'MPT/MPTh' 'MSc' 'DDVL' 'DGO' 'DNB' 'MD' 'Diploma' 'MBBS' 'DDPHN' 'DDHN'\n",
      " 'DM' 'Doctorate' 'DOMS' 'DPM' 'FCPS' 'FRCP' 'FRCS' 'MCh' 'MS' 'PG' 'PGD']\n"
     ]
    }
   ],
   "source": [
    "for i in df:\n",
    "    print(i)\n",
    "    print(df[i].nunique())\n",
    "    print(df[i].unique())"
   ]
  },
  {
   "cell_type": "markdown",
   "id": "3d264644",
   "metadata": {},
   "source": [
    "## Outliers Analysis"
   ]
  },
  {
   "cell_type": "code",
   "execution_count": 9,
   "id": "a204b4dc",
   "metadata": {},
   "outputs": [],
   "source": [
    "for i in df.select_dtypes(include='number'):\n",
    "    if i!='Consultation fee' :\n",
    "        q1=df[i].quantile(0.25)\n",
    "        q3=df[i].quantile(0.75)\n",
    "        iqr=q3-q1\n",
    "        ll=q1-1.5*iqr\n",
    "        ul=q3+1.5*iqr\n",
    "        df=df[(df[i]>=ll) & (df[i]<=ul)]"
   ]
  },
  {
   "cell_type": "code",
   "execution_count": 10,
   "id": "d0ee1a63",
   "metadata": {},
   "outputs": [
    {
     "data": {
      "text/plain": [
       "(4555, 8)"
      ]
     },
     "execution_count": 10,
     "metadata": {},
     "output_type": "execute_result"
    }
   ],
   "source": [
    "df.shape"
   ]
  },
  {
   "cell_type": "markdown",
   "id": "bff7e259",
   "metadata": {},
   "source": [
    "## Scaling & Encoding:"
   ]
  },
  {
   "cell_type": "code",
   "execution_count": 11,
   "id": "85e10f1e",
   "metadata": {},
   "outputs": [],
   "source": [
    "# Scaling Numerical Columns"
   ]
  },
  {
   "cell_type": "code",
   "execution_count": 12,
   "id": "c75f356e",
   "metadata": {},
   "outputs": [],
   "source": [
    "from sklearn.preprocessing import StandardScaler"
   ]
  },
  {
   "cell_type": "code",
   "execution_count": 13,
   "id": "5d555a63",
   "metadata": {},
   "outputs": [],
   "source": [
    "sc = StandardScaler()"
   ]
  },
  {
   "cell_type": "code",
   "execution_count": 14,
   "id": "22a0de2f",
   "metadata": {},
   "outputs": [],
   "source": [
    "df[['Year_of_experience', 'dp_score', 'npv(votes)']] = sc.fit_transform(df[['Year_of_experience', 'dp_score', 'npv(votes)']])"
   ]
  },
  {
   "cell_type": "code",
   "execution_count": 15,
   "id": "6bc6e907",
   "metadata": {},
   "outputs": [],
   "source": [
    "import pickle\n",
    "\n",
    "with open('models/scaler.pkl', 'wb') as file:\n",
    "    pickle.dump(sc, file)\n"
   ]
  },
  {
   "cell_type": "code",
   "execution_count": 16,
   "id": "778ab2af",
   "metadata": {},
   "outputs": [
    {
     "data": {
      "text/html": [
       "<div>\n",
       "<style scoped>\n",
       "    .dataframe tbody tr th:only-of-type {\n",
       "        vertical-align: middle;\n",
       "    }\n",
       "\n",
       "    .dataframe tbody tr th {\n",
       "        vertical-align: top;\n",
       "    }\n",
       "\n",
       "    .dataframe thead th {\n",
       "        text-align: right;\n",
       "    }\n",
       "</style>\n",
       "<table border=\"1\" class=\"dataframe\">\n",
       "  <thead>\n",
       "    <tr style=\"text-align: right;\">\n",
       "      <th></th>\n",
       "      <th>Speciality</th>\n",
       "      <th>Year_of_experience</th>\n",
       "      <th>Location</th>\n",
       "      <th>City</th>\n",
       "      <th>dp_score</th>\n",
       "      <th>consultation_fee</th>\n",
       "      <th>npv(votes)</th>\n",
       "      <th>Degree</th>\n",
       "    </tr>\n",
       "  </thead>\n",
       "  <tbody>\n",
       "    <tr>\n",
       "      <th>0</th>\n",
       "      <td>Dietitian/Nutritionist</td>\n",
       "      <td>-1.644963</td>\n",
       "      <td>Koramangala 7 Block</td>\n",
       "      <td>Bangalore</td>\n",
       "      <td>0.882062</td>\n",
       "      <td>600</td>\n",
       "      <td>-0.585295</td>\n",
       "      <td>BSc</td>\n",
       "    </tr>\n",
       "    <tr>\n",
       "      <th>2</th>\n",
       "      <td>Dietitian/Nutritionist</td>\n",
       "      <td>-0.178445</td>\n",
       "      <td>Kandivali West</td>\n",
       "      <td>Mumbai</td>\n",
       "      <td>0.640927</td>\n",
       "      <td>0</td>\n",
       "      <td>0.016525</td>\n",
       "      <td>BSc</td>\n",
       "    </tr>\n",
       "    <tr>\n",
       "      <th>4</th>\n",
       "      <td>Dietitian/Nutritionist</td>\n",
       "      <td>-2.011592</td>\n",
       "      <td>Koramangala 5 Block</td>\n",
       "      <td>Bangalore</td>\n",
       "      <td>0.640927</td>\n",
       "      <td>600</td>\n",
       "      <td>0.285194</td>\n",
       "      <td>BSc</td>\n",
       "    </tr>\n",
       "    <tr>\n",
       "      <th>5</th>\n",
       "      <td>Dietitian/Nutritionist</td>\n",
       "      <td>-0.422865</td>\n",
       "      <td>Basaveshwaranagar</td>\n",
       "      <td>Bangalore</td>\n",
       "      <td>0.158657</td>\n",
       "      <td>850</td>\n",
       "      <td>0.242207</td>\n",
       "      <td>BSc</td>\n",
       "    </tr>\n",
       "    <tr>\n",
       "      <th>7</th>\n",
       "      <td>Dietitian/Nutritionist</td>\n",
       "      <td>0.677023</td>\n",
       "      <td>Malleswaram</td>\n",
       "      <td>Bangalore</td>\n",
       "      <td>0.882062</td>\n",
       "      <td>1000</td>\n",
       "      <td>0.123993</td>\n",
       "      <td>BAMS</td>\n",
       "    </tr>\n",
       "  </tbody>\n",
       "</table>\n",
       "</div>"
      ],
      "text/plain": [
       "               Speciality  Year_of_experience             Location       City  \\\n",
       "0  Dietitian/Nutritionist           -1.644963  Koramangala 7 Block  Bangalore   \n",
       "2  Dietitian/Nutritionist           -0.178445       Kandivali West     Mumbai   \n",
       "4  Dietitian/Nutritionist           -2.011592  Koramangala 5 Block  Bangalore   \n",
       "5  Dietitian/Nutritionist           -0.422865    Basaveshwaranagar  Bangalore   \n",
       "7  Dietitian/Nutritionist            0.677023          Malleswaram  Bangalore   \n",
       "\n",
       "   dp_score  consultation_fee  npv(votes) Degree  \n",
       "0  0.882062               600   -0.585295    BSc  \n",
       "2  0.640927                 0    0.016525    BSc  \n",
       "4  0.640927               600    0.285194    BSc  \n",
       "5  0.158657               850    0.242207    BSc  \n",
       "7  0.882062              1000    0.123993   BAMS  "
      ]
     },
     "execution_count": 16,
     "metadata": {},
     "output_type": "execute_result"
    }
   ],
   "source": [
    "df.head()"
   ]
  },
  {
   "cell_type": "code",
   "execution_count": 17,
   "id": "ba7e4426",
   "metadata": {},
   "outputs": [
    {
     "data": {
      "text/plain": [
       "array(['Dietitian/Nutritionist', 'Dentist', 'Physiotherapist',\n",
       "       'Chiropractor', 'Dermatologist', 'Gynecologist',\n",
       "       'Infertility Specialist', 'Pediatrician', 'Orthopedist',\n",
       "       'Pulmonologist', 'Cardiologist', 'Rheumatologist',\n",
       "       'Gastroenterologist', 'Neurologist', 'Bariatric Surgeon',\n",
       "       'Neurosurgeon', 'Ophthalmologist', 'Psychiatrist', 'Urologist'],\n",
       "      dtype=object)"
      ]
     },
     "execution_count": 17,
     "metadata": {},
     "output_type": "execute_result"
    }
   ],
   "source": [
    "df['Speciality'].unique()"
   ]
  },
  {
   "cell_type": "code",
   "execution_count": 18,
   "id": "1ecb9818",
   "metadata": {},
   "outputs": [
    {
     "data": {
      "text/plain": [
       "array(['Bangalore', 'Mumbai', 'Delhi'], dtype=object)"
      ]
     },
     "execution_count": 18,
     "metadata": {},
     "output_type": "execute_result"
    }
   ],
   "source": [
    "df['City'].unique()"
   ]
  },
  {
   "cell_type": "code",
   "execution_count": 19,
   "id": "810639bf",
   "metadata": {},
   "outputs": [],
   "source": [
    "# Encoding Categorical Columns"
   ]
  },
  {
   "cell_type": "code",
   "execution_count": 20,
   "id": "f57cdfc3",
   "metadata": {},
   "outputs": [],
   "source": [
    "df.drop(columns=['Location', 'Degree'],inplace=True)"
   ]
  },
  {
   "cell_type": "code",
   "execution_count": 21,
   "id": "01970a8a",
   "metadata": {},
   "outputs": [],
   "source": [
    "df=pd.get_dummies(df,drop_first=True)"
   ]
  },
  {
   "cell_type": "code",
   "execution_count": 22,
   "id": "0320291d",
   "metadata": {},
   "outputs": [
    {
     "data": {
      "text/html": [
       "<div>\n",
       "<style scoped>\n",
       "    .dataframe tbody tr th:only-of-type {\n",
       "        vertical-align: middle;\n",
       "    }\n",
       "\n",
       "    .dataframe tbody tr th {\n",
       "        vertical-align: top;\n",
       "    }\n",
       "\n",
       "    .dataframe thead th {\n",
       "        text-align: right;\n",
       "    }\n",
       "</style>\n",
       "<table border=\"1\" class=\"dataframe\">\n",
       "  <thead>\n",
       "    <tr style=\"text-align: right;\">\n",
       "      <th></th>\n",
       "      <th>Year_of_experience</th>\n",
       "      <th>dp_score</th>\n",
       "      <th>consultation_fee</th>\n",
       "      <th>npv(votes)</th>\n",
       "      <th>Speciality_Cardiologist</th>\n",
       "      <th>Speciality_Chiropractor</th>\n",
       "      <th>Speciality_Dentist</th>\n",
       "      <th>Speciality_Dermatologist</th>\n",
       "      <th>Speciality_Dietitian/Nutritionist</th>\n",
       "      <th>Speciality_Gastroenterologist</th>\n",
       "      <th>...</th>\n",
       "      <th>Speciality_Ophthalmologist</th>\n",
       "      <th>Speciality_Orthopedist</th>\n",
       "      <th>Speciality_Pediatrician</th>\n",
       "      <th>Speciality_Physiotherapist</th>\n",
       "      <th>Speciality_Psychiatrist</th>\n",
       "      <th>Speciality_Pulmonologist</th>\n",
       "      <th>Speciality_Rheumatologist</th>\n",
       "      <th>Speciality_Urologist</th>\n",
       "      <th>City_Delhi</th>\n",
       "      <th>City_Mumbai</th>\n",
       "    </tr>\n",
       "  </thead>\n",
       "  <tbody>\n",
       "    <tr>\n",
       "      <th>0</th>\n",
       "      <td>-1.644963</td>\n",
       "      <td>0.882062</td>\n",
       "      <td>600</td>\n",
       "      <td>-0.585295</td>\n",
       "      <td>0</td>\n",
       "      <td>0</td>\n",
       "      <td>0</td>\n",
       "      <td>0</td>\n",
       "      <td>1</td>\n",
       "      <td>0</td>\n",
       "      <td>...</td>\n",
       "      <td>0</td>\n",
       "      <td>0</td>\n",
       "      <td>0</td>\n",
       "      <td>0</td>\n",
       "      <td>0</td>\n",
       "      <td>0</td>\n",
       "      <td>0</td>\n",
       "      <td>0</td>\n",
       "      <td>0</td>\n",
       "      <td>0</td>\n",
       "    </tr>\n",
       "    <tr>\n",
       "      <th>2</th>\n",
       "      <td>-0.178445</td>\n",
       "      <td>0.640927</td>\n",
       "      <td>0</td>\n",
       "      <td>0.016525</td>\n",
       "      <td>0</td>\n",
       "      <td>0</td>\n",
       "      <td>0</td>\n",
       "      <td>0</td>\n",
       "      <td>1</td>\n",
       "      <td>0</td>\n",
       "      <td>...</td>\n",
       "      <td>0</td>\n",
       "      <td>0</td>\n",
       "      <td>0</td>\n",
       "      <td>0</td>\n",
       "      <td>0</td>\n",
       "      <td>0</td>\n",
       "      <td>0</td>\n",
       "      <td>0</td>\n",
       "      <td>0</td>\n",
       "      <td>1</td>\n",
       "    </tr>\n",
       "    <tr>\n",
       "      <th>4</th>\n",
       "      <td>-2.011592</td>\n",
       "      <td>0.640927</td>\n",
       "      <td>600</td>\n",
       "      <td>0.285194</td>\n",
       "      <td>0</td>\n",
       "      <td>0</td>\n",
       "      <td>0</td>\n",
       "      <td>0</td>\n",
       "      <td>1</td>\n",
       "      <td>0</td>\n",
       "      <td>...</td>\n",
       "      <td>0</td>\n",
       "      <td>0</td>\n",
       "      <td>0</td>\n",
       "      <td>0</td>\n",
       "      <td>0</td>\n",
       "      <td>0</td>\n",
       "      <td>0</td>\n",
       "      <td>0</td>\n",
       "      <td>0</td>\n",
       "      <td>0</td>\n",
       "    </tr>\n",
       "    <tr>\n",
       "      <th>5</th>\n",
       "      <td>-0.422865</td>\n",
       "      <td>0.158657</td>\n",
       "      <td>850</td>\n",
       "      <td>0.242207</td>\n",
       "      <td>0</td>\n",
       "      <td>0</td>\n",
       "      <td>0</td>\n",
       "      <td>0</td>\n",
       "      <td>1</td>\n",
       "      <td>0</td>\n",
       "      <td>...</td>\n",
       "      <td>0</td>\n",
       "      <td>0</td>\n",
       "      <td>0</td>\n",
       "      <td>0</td>\n",
       "      <td>0</td>\n",
       "      <td>0</td>\n",
       "      <td>0</td>\n",
       "      <td>0</td>\n",
       "      <td>0</td>\n",
       "      <td>0</td>\n",
       "    </tr>\n",
       "    <tr>\n",
       "      <th>7</th>\n",
       "      <td>0.677023</td>\n",
       "      <td>0.882062</td>\n",
       "      <td>1000</td>\n",
       "      <td>0.123993</td>\n",
       "      <td>0</td>\n",
       "      <td>0</td>\n",
       "      <td>0</td>\n",
       "      <td>0</td>\n",
       "      <td>1</td>\n",
       "      <td>0</td>\n",
       "      <td>...</td>\n",
       "      <td>0</td>\n",
       "      <td>0</td>\n",
       "      <td>0</td>\n",
       "      <td>0</td>\n",
       "      <td>0</td>\n",
       "      <td>0</td>\n",
       "      <td>0</td>\n",
       "      <td>0</td>\n",
       "      <td>0</td>\n",
       "      <td>0</td>\n",
       "    </tr>\n",
       "  </tbody>\n",
       "</table>\n",
       "<p>5 rows × 24 columns</p>\n",
       "</div>"
      ],
      "text/plain": [
       "   Year_of_experience  dp_score  consultation_fee  npv(votes)  \\\n",
       "0           -1.644963  0.882062               600   -0.585295   \n",
       "2           -0.178445  0.640927                 0    0.016525   \n",
       "4           -2.011592  0.640927               600    0.285194   \n",
       "5           -0.422865  0.158657               850    0.242207   \n",
       "7            0.677023  0.882062              1000    0.123993   \n",
       "\n",
       "   Speciality_Cardiologist  Speciality_Chiropractor  Speciality_Dentist  \\\n",
       "0                        0                        0                   0   \n",
       "2                        0                        0                   0   \n",
       "4                        0                        0                   0   \n",
       "5                        0                        0                   0   \n",
       "7                        0                        0                   0   \n",
       "\n",
       "   Speciality_Dermatologist  Speciality_Dietitian/Nutritionist  \\\n",
       "0                         0                                  1   \n",
       "2                         0                                  1   \n",
       "4                         0                                  1   \n",
       "5                         0                                  1   \n",
       "7                         0                                  1   \n",
       "\n",
       "   Speciality_Gastroenterologist  ...  Speciality_Ophthalmologist  \\\n",
       "0                              0  ...                           0   \n",
       "2                              0  ...                           0   \n",
       "4                              0  ...                           0   \n",
       "5                              0  ...                           0   \n",
       "7                              0  ...                           0   \n",
       "\n",
       "   Speciality_Orthopedist  Speciality_Pediatrician  \\\n",
       "0                       0                        0   \n",
       "2                       0                        0   \n",
       "4                       0                        0   \n",
       "5                       0                        0   \n",
       "7                       0                        0   \n",
       "\n",
       "   Speciality_Physiotherapist  Speciality_Psychiatrist  \\\n",
       "0                           0                        0   \n",
       "2                           0                        0   \n",
       "4                           0                        0   \n",
       "5                           0                        0   \n",
       "7                           0                        0   \n",
       "\n",
       "   Speciality_Pulmonologist  Speciality_Rheumatologist  Speciality_Urologist  \\\n",
       "0                         0                          0                     0   \n",
       "2                         0                          0                     0   \n",
       "4                         0                          0                     0   \n",
       "5                         0                          0                     0   \n",
       "7                         0                          0                     0   \n",
       "\n",
       "   City_Delhi  City_Mumbai  \n",
       "0           0            0  \n",
       "2           0            1  \n",
       "4           0            0  \n",
       "5           0            0  \n",
       "7           0            0  \n",
       "\n",
       "[5 rows x 24 columns]"
      ]
     },
     "execution_count": 22,
     "metadata": {},
     "output_type": "execute_result"
    }
   ],
   "source": [
    "df.head()"
   ]
  },
  {
   "cell_type": "markdown",
   "id": "ca53ebff",
   "metadata": {},
   "source": [
    "## Machine Learning Models"
   ]
  },
  {
   "cell_type": "code",
   "execution_count": 23,
   "id": "737a26fa",
   "metadata": {},
   "outputs": [],
   "source": [
    "# splitting the training and testing data\n",
    "\n",
    "x = df.drop(columns='consultation_fee')\n",
    "y = df['consultation_fee']"
   ]
  },
  {
   "cell_type": "code",
   "execution_count": 24,
   "id": "9066b5cf",
   "metadata": {},
   "outputs": [
    {
     "name": "stdout",
     "output_type": "stream",
     "text": [
      "Shape of Features : (4555, 23)\n",
      "Shape of Label : (4555,)\n"
     ]
    }
   ],
   "source": [
    "print(f'Shape of Features : {x.shape}')\n",
    "print(f'Shape of Label : {y.shape}')"
   ]
  },
  {
   "cell_type": "code",
   "execution_count": 25,
   "id": "e48ca299",
   "metadata": {},
   "outputs": [],
   "source": [
    "from sklearn.model_selection import train_test_split"
   ]
  },
  {
   "cell_type": "code",
   "execution_count": 26,
   "id": "fcf67b63",
   "metadata": {},
   "outputs": [],
   "source": [
    "x_train, x_test, y_train, y_test = train_test_split(x, y, test_size=0.3, random_state=12)"
   ]
  },
  {
   "cell_type": "code",
   "execution_count": 27,
   "id": "389e5f75",
   "metadata": {},
   "outputs": [
    {
     "name": "stdout",
     "output_type": "stream",
     "text": [
      "Shape of Training Features : (3188, 23)\n",
      "Shape of Testing Features : (1367, 23)\n",
      "Shape of Testing Label : (3188,)\n",
      "Shape of Testing Label : (1367,)\n"
     ]
    }
   ],
   "source": [
    "print(f'Shape of Training Features : {x_train.shape}')\n",
    "print(f'Shape of Testing Features : {x_test.shape}')\n",
    "print(f'Shape of Testing Label : {y_train.shape}')\n",
    "print(f'Shape of Testing Label : {y_test.shape}')"
   ]
  },
  {
   "cell_type": "code",
   "execution_count": 28,
   "id": "40ec1e96",
   "metadata": {},
   "outputs": [
    {
     "data": {
      "text/plain": [
       "Index(['Year_of_experience', 'dp_score', 'npv(votes)',\n",
       "       'Speciality_Cardiologist', 'Speciality_Chiropractor',\n",
       "       'Speciality_Dentist', 'Speciality_Dermatologist',\n",
       "       'Speciality_Dietitian/Nutritionist', 'Speciality_Gastroenterologist',\n",
       "       'Speciality_Gynecologist', 'Speciality_Infertility Specialist',\n",
       "       'Speciality_Neurologist', 'Speciality_Neurosurgeon',\n",
       "       'Speciality_Ophthalmologist', 'Speciality_Orthopedist',\n",
       "       'Speciality_Pediatrician', 'Speciality_Physiotherapist',\n",
       "       'Speciality_Psychiatrist', 'Speciality_Pulmonologist',\n",
       "       'Speciality_Rheumatologist', 'Speciality_Urologist', 'City_Delhi',\n",
       "       'City_Mumbai'],\n",
       "      dtype='object')"
      ]
     },
     "execution_count": 28,
     "metadata": {},
     "output_type": "execute_result"
    }
   ],
   "source": [
    "x_train.columns"
   ]
  },
  {
   "cell_type": "markdown",
   "id": "afcdc7c1",
   "metadata": {},
   "source": [
    "## 1. Linear Regression Model"
   ]
  },
  {
   "cell_type": "code",
   "execution_count": 29,
   "id": "bbfcc93b",
   "metadata": {},
   "outputs": [],
   "source": [
    "from sklearn.linear_model import LinearRegression\n",
    "lr=LinearRegression()"
   ]
  },
  {
   "cell_type": "code",
   "execution_count": 32,
   "id": "de7246b9",
   "metadata": {},
   "outputs": [
    {
     "data": {
      "text/plain": [
       "Index(['Year_of_experience', 'dp_score', 'npv(votes)',\n",
       "       'Speciality_Cardiologist', 'Speciality_Chiropractor',\n",
       "       'Speciality_Dentist', 'Speciality_Dermatologist',\n",
       "       'Speciality_Dietitian/Nutritionist', 'Speciality_Gastroenterologist',\n",
       "       'Speciality_Gynecologist', 'Speciality_Infertility Specialist',\n",
       "       'Speciality_Neurologist', 'Speciality_Neurosurgeon',\n",
       "       'Speciality_Ophthalmologist', 'Speciality_Orthopedist',\n",
       "       'Speciality_Pediatrician', 'Speciality_Physiotherapist',\n",
       "       'Speciality_Psychiatrist', 'Speciality_Pulmonologist',\n",
       "       'Speciality_Rheumatologist', 'Speciality_Urologist', 'City_Delhi',\n",
       "       'City_Mumbai'],\n",
       "      dtype='object')"
      ]
     },
     "execution_count": 32,
     "metadata": {},
     "output_type": "execute_result"
    }
   ],
   "source": [
    "x_train.columns"
   ]
  },
  {
   "cell_type": "code",
   "execution_count": 473,
   "id": "b9b7ad86",
   "metadata": {},
   "outputs": [
    {
     "data": {
      "text/html": [
       "<style>#sk-container-id-52 {color: black;}#sk-container-id-52 pre{padding: 0;}#sk-container-id-52 div.sk-toggleable {background-color: white;}#sk-container-id-52 label.sk-toggleable__label {cursor: pointer;display: block;width: 100%;margin-bottom: 0;padding: 0.3em;box-sizing: border-box;text-align: center;}#sk-container-id-52 label.sk-toggleable__label-arrow:before {content: \"▸\";float: left;margin-right: 0.25em;color: #696969;}#sk-container-id-52 label.sk-toggleable__label-arrow:hover:before {color: black;}#sk-container-id-52 div.sk-estimator:hover label.sk-toggleable__label-arrow:before {color: black;}#sk-container-id-52 div.sk-toggleable__content {max-height: 0;max-width: 0;overflow: hidden;text-align: left;background-color: #f0f8ff;}#sk-container-id-52 div.sk-toggleable__content pre {margin: 0.2em;color: black;border-radius: 0.25em;background-color: #f0f8ff;}#sk-container-id-52 input.sk-toggleable__control:checked~div.sk-toggleable__content {max-height: 200px;max-width: 100%;overflow: auto;}#sk-container-id-52 input.sk-toggleable__control:checked~label.sk-toggleable__label-arrow:before {content: \"▾\";}#sk-container-id-52 div.sk-estimator input.sk-toggleable__control:checked~label.sk-toggleable__label {background-color: #d4ebff;}#sk-container-id-52 div.sk-label input.sk-toggleable__control:checked~label.sk-toggleable__label {background-color: #d4ebff;}#sk-container-id-52 input.sk-hidden--visually {border: 0;clip: rect(1px 1px 1px 1px);clip: rect(1px, 1px, 1px, 1px);height: 1px;margin: -1px;overflow: hidden;padding: 0;position: absolute;width: 1px;}#sk-container-id-52 div.sk-estimator {font-family: monospace;background-color: #f0f8ff;border: 1px dotted black;border-radius: 0.25em;box-sizing: border-box;margin-bottom: 0.5em;}#sk-container-id-52 div.sk-estimator:hover {background-color: #d4ebff;}#sk-container-id-52 div.sk-parallel-item::after {content: \"\";width: 100%;border-bottom: 1px solid gray;flex-grow: 1;}#sk-container-id-52 div.sk-label:hover label.sk-toggleable__label {background-color: #d4ebff;}#sk-container-id-52 div.sk-serial::before {content: \"\";position: absolute;border-left: 1px solid gray;box-sizing: border-box;top: 0;bottom: 0;left: 50%;z-index: 0;}#sk-container-id-52 div.sk-serial {display: flex;flex-direction: column;align-items: center;background-color: white;padding-right: 0.2em;padding-left: 0.2em;position: relative;}#sk-container-id-52 div.sk-item {position: relative;z-index: 1;}#sk-container-id-52 div.sk-parallel {display: flex;align-items: stretch;justify-content: center;background-color: white;position: relative;}#sk-container-id-52 div.sk-item::before, #sk-container-id-52 div.sk-parallel-item::before {content: \"\";position: absolute;border-left: 1px solid gray;box-sizing: border-box;top: 0;bottom: 0;left: 50%;z-index: -1;}#sk-container-id-52 div.sk-parallel-item {display: flex;flex-direction: column;z-index: 1;position: relative;background-color: white;}#sk-container-id-52 div.sk-parallel-item:first-child::after {align-self: flex-end;width: 50%;}#sk-container-id-52 div.sk-parallel-item:last-child::after {align-self: flex-start;width: 50%;}#sk-container-id-52 div.sk-parallel-item:only-child::after {width: 0;}#sk-container-id-52 div.sk-dashed-wrapped {border: 1px dashed gray;margin: 0 0.4em 0.5em 0.4em;box-sizing: border-box;padding-bottom: 0.4em;background-color: white;}#sk-container-id-52 div.sk-label label {font-family: monospace;font-weight: bold;display: inline-block;line-height: 1.2em;}#sk-container-id-52 div.sk-label-container {text-align: center;}#sk-container-id-52 div.sk-container {/* jupyter's `normalize.less` sets `[hidden] { display: none; }` but bootstrap.min.css set `[hidden] { display: none !important; }` so we also need the `!important` here to be able to override the default hidden behavior on the sphinx rendered scikit-learn.org. See: https://github.com/scikit-learn/scikit-learn/issues/21755 */display: inline-block !important;position: relative;}#sk-container-id-52 div.sk-text-repr-fallback {display: none;}</style><div id=\"sk-container-id-52\" class=\"sk-top-container\"><div class=\"sk-text-repr-fallback\"><pre>LinearRegression()</pre><b>In a Jupyter environment, please rerun this cell to show the HTML representation or trust the notebook. <br />On GitHub, the HTML representation is unable to render, please try loading this page with nbviewer.org.</b></div><div class=\"sk-container\" hidden><div class=\"sk-item\"><div class=\"sk-estimator sk-toggleable\"><input class=\"sk-toggleable__control sk-hidden--visually\" id=\"sk-estimator-id-52\" type=\"checkbox\" checked><label for=\"sk-estimator-id-52\" class=\"sk-toggleable__label sk-toggleable__label-arrow\">LinearRegression</label><div class=\"sk-toggleable__content\"><pre>LinearRegression()</pre></div></div></div></div></div>"
      ],
      "text/plain": [
       "LinearRegression()"
      ]
     },
     "execution_count": 473,
     "metadata": {},
     "output_type": "execute_result"
    }
   ],
   "source": [
    "lr.fit(x_train, y_train)"
   ]
  },
  {
   "cell_type": "code",
   "execution_count": 474,
   "id": "37f2efb0",
   "metadata": {},
   "outputs": [
    {
     "data": {
      "text/plain": [
       "array([513.2227408 , 938.59011997, 954.52777472, ..., 821.28467374,\n",
       "       296.39171991, 579.896732  ])"
      ]
     },
     "execution_count": 474,
     "metadata": {},
     "output_type": "execute_result"
    }
   ],
   "source": [
    "y_pred_lr = lr.predict(x_test)\n",
    "y_pred_lr"
   ]
  },
  {
   "cell_type": "code",
   "execution_count": 475,
   "id": "5e94ee26",
   "metadata": {},
   "outputs": [],
   "source": [
    "# Evaluating Model Performance"
   ]
  },
  {
   "cell_type": "code",
   "execution_count": 476,
   "id": "886e3f0f",
   "metadata": {},
   "outputs": [],
   "source": [
    "from sklearn import metrics"
   ]
  },
  {
   "cell_type": "code",
   "execution_count": 477,
   "id": "61fbfa10",
   "metadata": {},
   "outputs": [
    {
     "name": "stdout",
     "output_type": "stream",
     "text": [
      "Training Score = 0.4996648831373067\n",
      "Testing Score = 0.5218529944360749\n",
      "MAE = 180.69565462326713\n",
      "MSE = 58602.96410328793\n",
      "RMSE = 242.080490959697\n",
      "R2_score = 0.5218529944360749\n"
     ]
    }
   ],
   "source": [
    "# Training Score\n",
    "Training_Score = lr.score(x_train, y_train)\n",
    "print('Training Score =',Training_Score)\n",
    "\n",
    "# Testing Score\n",
    "Testing_Score = lr.score(x_test, y_test)\n",
    "print('Testing Score =',Testing_Score)\n",
    "\n",
    "# Mean Absolute Error(MAE)\n",
    "MAE = metrics.mean_absolute_error(y_test, y_pred_lr)\n",
    "print('MAE =',MAE)\n",
    "\n",
    "# Mean Square Error(MSE)\n",
    "MSE = metrics.mean_squared_error(y_test, y_pred_lr)\n",
    "print('MSE =',MSE)\n",
    "\n",
    "# Root mean square error(RSME)\n",
    "RMSE = np.sqrt(MSE)\n",
    "print('RMSE =',RMSE)\n",
    "\n",
    "# R-squared(R2 Score)\n",
    "R2 = metrics.r2_score(y_test,y_pred_lr)\n",
    "print('R2_score =',R2) "
   ]
  },
  {
   "cell_type": "code",
   "execution_count": 478,
   "id": "c2a12ee9",
   "metadata": {},
   "outputs": [],
   "source": [
    "with open('models/model_lr.pkl', 'wb') as file:\n",
    "    pickle.dump(lr, file)\n"
   ]
  },
  {
   "cell_type": "markdown",
   "id": "0d947197",
   "metadata": {},
   "source": [
    "## 2. Decision Tree Regressor Model"
   ]
  },
  {
   "cell_type": "code",
   "execution_count": 479,
   "id": "da860f13",
   "metadata": {},
   "outputs": [],
   "source": [
    "from sklearn.tree import DecisionTreeRegressor"
   ]
  },
  {
   "cell_type": "code",
   "execution_count": 480,
   "id": "3d2fb9d6",
   "metadata": {},
   "outputs": [],
   "source": [
    "dt = DecisionTreeRegressor()"
   ]
  },
  {
   "cell_type": "code",
   "execution_count": 481,
   "id": "ddc9a275",
   "metadata": {},
   "outputs": [
    {
     "data": {
      "text/html": [
       "<style>#sk-container-id-53 {color: black;}#sk-container-id-53 pre{padding: 0;}#sk-container-id-53 div.sk-toggleable {background-color: white;}#sk-container-id-53 label.sk-toggleable__label {cursor: pointer;display: block;width: 100%;margin-bottom: 0;padding: 0.3em;box-sizing: border-box;text-align: center;}#sk-container-id-53 label.sk-toggleable__label-arrow:before {content: \"▸\";float: left;margin-right: 0.25em;color: #696969;}#sk-container-id-53 label.sk-toggleable__label-arrow:hover:before {color: black;}#sk-container-id-53 div.sk-estimator:hover label.sk-toggleable__label-arrow:before {color: black;}#sk-container-id-53 div.sk-toggleable__content {max-height: 0;max-width: 0;overflow: hidden;text-align: left;background-color: #f0f8ff;}#sk-container-id-53 div.sk-toggleable__content pre {margin: 0.2em;color: black;border-radius: 0.25em;background-color: #f0f8ff;}#sk-container-id-53 input.sk-toggleable__control:checked~div.sk-toggleable__content {max-height: 200px;max-width: 100%;overflow: auto;}#sk-container-id-53 input.sk-toggleable__control:checked~label.sk-toggleable__label-arrow:before {content: \"▾\";}#sk-container-id-53 div.sk-estimator input.sk-toggleable__control:checked~label.sk-toggleable__label {background-color: #d4ebff;}#sk-container-id-53 div.sk-label input.sk-toggleable__control:checked~label.sk-toggleable__label {background-color: #d4ebff;}#sk-container-id-53 input.sk-hidden--visually {border: 0;clip: rect(1px 1px 1px 1px);clip: rect(1px, 1px, 1px, 1px);height: 1px;margin: -1px;overflow: hidden;padding: 0;position: absolute;width: 1px;}#sk-container-id-53 div.sk-estimator {font-family: monospace;background-color: #f0f8ff;border: 1px dotted black;border-radius: 0.25em;box-sizing: border-box;margin-bottom: 0.5em;}#sk-container-id-53 div.sk-estimator:hover {background-color: #d4ebff;}#sk-container-id-53 div.sk-parallel-item::after {content: \"\";width: 100%;border-bottom: 1px solid gray;flex-grow: 1;}#sk-container-id-53 div.sk-label:hover label.sk-toggleable__label {background-color: #d4ebff;}#sk-container-id-53 div.sk-serial::before {content: \"\";position: absolute;border-left: 1px solid gray;box-sizing: border-box;top: 0;bottom: 0;left: 50%;z-index: 0;}#sk-container-id-53 div.sk-serial {display: flex;flex-direction: column;align-items: center;background-color: white;padding-right: 0.2em;padding-left: 0.2em;position: relative;}#sk-container-id-53 div.sk-item {position: relative;z-index: 1;}#sk-container-id-53 div.sk-parallel {display: flex;align-items: stretch;justify-content: center;background-color: white;position: relative;}#sk-container-id-53 div.sk-item::before, #sk-container-id-53 div.sk-parallel-item::before {content: \"\";position: absolute;border-left: 1px solid gray;box-sizing: border-box;top: 0;bottom: 0;left: 50%;z-index: -1;}#sk-container-id-53 div.sk-parallel-item {display: flex;flex-direction: column;z-index: 1;position: relative;background-color: white;}#sk-container-id-53 div.sk-parallel-item:first-child::after {align-self: flex-end;width: 50%;}#sk-container-id-53 div.sk-parallel-item:last-child::after {align-self: flex-start;width: 50%;}#sk-container-id-53 div.sk-parallel-item:only-child::after {width: 0;}#sk-container-id-53 div.sk-dashed-wrapped {border: 1px dashed gray;margin: 0 0.4em 0.5em 0.4em;box-sizing: border-box;padding-bottom: 0.4em;background-color: white;}#sk-container-id-53 div.sk-label label {font-family: monospace;font-weight: bold;display: inline-block;line-height: 1.2em;}#sk-container-id-53 div.sk-label-container {text-align: center;}#sk-container-id-53 div.sk-container {/* jupyter's `normalize.less` sets `[hidden] { display: none; }` but bootstrap.min.css set `[hidden] { display: none !important; }` so we also need the `!important` here to be able to override the default hidden behavior on the sphinx rendered scikit-learn.org. See: https://github.com/scikit-learn/scikit-learn/issues/21755 */display: inline-block !important;position: relative;}#sk-container-id-53 div.sk-text-repr-fallback {display: none;}</style><div id=\"sk-container-id-53\" class=\"sk-top-container\"><div class=\"sk-text-repr-fallback\"><pre>DecisionTreeRegressor()</pre><b>In a Jupyter environment, please rerun this cell to show the HTML representation or trust the notebook. <br />On GitHub, the HTML representation is unable to render, please try loading this page with nbviewer.org.</b></div><div class=\"sk-container\" hidden><div class=\"sk-item\"><div class=\"sk-estimator sk-toggleable\"><input class=\"sk-toggleable__control sk-hidden--visually\" id=\"sk-estimator-id-53\" type=\"checkbox\" checked><label for=\"sk-estimator-id-53\" class=\"sk-toggleable__label sk-toggleable__label-arrow\">DecisionTreeRegressor</label><div class=\"sk-toggleable__content\"><pre>DecisionTreeRegressor()</pre></div></div></div></div></div>"
      ],
      "text/plain": [
       "DecisionTreeRegressor()"
      ]
     },
     "execution_count": 481,
     "metadata": {},
     "output_type": "execute_result"
    }
   ],
   "source": [
    "dt.fit(x_train, y_train)"
   ]
  },
  {
   "cell_type": "code",
   "execution_count": 482,
   "id": "df17ef51",
   "metadata": {},
   "outputs": [
    {
     "data": {
      "text/plain": [
       "array([ 400.,  900., 1000., ...,  700.,  500.,  200.])"
      ]
     },
     "execution_count": 482,
     "metadata": {},
     "output_type": "execute_result"
    }
   ],
   "source": [
    "y_pred_dt = dt.predict(x_test)\n",
    "y_pred_dt"
   ]
  },
  {
   "cell_type": "code",
   "execution_count": 483,
   "id": "4e589eae",
   "metadata": {},
   "outputs": [],
   "source": [
    "# Evaluating Model Performance"
   ]
  },
  {
   "cell_type": "code",
   "execution_count": 484,
   "id": "9772b0aa",
   "metadata": {
    "scrolled": true
   },
   "outputs": [
    {
     "name": "stdout",
     "output_type": "stream",
     "text": [
      "Training Score = 0.9845447609979953\n",
      "Testing Score = 0.06946231190802876\n",
      "MAE = 241.95537673738113\n",
      "MSE = 114049.1650004064\n",
      "RMSE = 337.71165955650156\n",
      "R-squared = 0.06946231190802876\n"
     ]
    }
   ],
   "source": [
    "# Training Score\n",
    "Training_Score = dt.score(x_train, y_train)\n",
    "print('Training Score =',Training_Score)\n",
    "\n",
    "# Testing Score\n",
    "Testing_Score = dt.score(x_test, y_test)\n",
    "print('Testing Score =',Testing_Score)\n",
    "\n",
    "# Mean Absolute Error(MAE)\n",
    "MAE = metrics.mean_absolute_error(y_test, y_pred_dt)\n",
    "print('MAE =',MAE)\n",
    "\n",
    "# Mean Square Error(MSE)\n",
    "MSE = metrics.mean_squared_error(y_test, y_pred_dt)\n",
    "print('MSE =',MSE)\n",
    "\n",
    "# Root mean square error(RSME)\n",
    "RMSE = np.sqrt(MSE)\n",
    "print('RMSE =',RMSE)\n",
    "\n",
    "# R-squared(R2 Score)\n",
    "R2 = metrics.r2_score(y_test,y_pred_dt)\n",
    "print('R-squared =',R2) "
   ]
  },
  {
   "cell_type": "markdown",
   "id": "e219b96d",
   "metadata": {},
   "source": [
    "## 3. Decision Tree Regressor Model using Hyperparamater"
   ]
  },
  {
   "cell_type": "code",
   "execution_count": 485,
   "id": "2359febb",
   "metadata": {},
   "outputs": [],
   "source": [
    "dtt = DecisionTreeRegressor(max_depth=6, min_impurity_decrease=0.03)"
   ]
  },
  {
   "cell_type": "code",
   "execution_count": 486,
   "id": "74e42ddb",
   "metadata": {},
   "outputs": [
    {
     "data": {
      "text/html": [
       "<style>#sk-container-id-54 {color: black;}#sk-container-id-54 pre{padding: 0;}#sk-container-id-54 div.sk-toggleable {background-color: white;}#sk-container-id-54 label.sk-toggleable__label {cursor: pointer;display: block;width: 100%;margin-bottom: 0;padding: 0.3em;box-sizing: border-box;text-align: center;}#sk-container-id-54 label.sk-toggleable__label-arrow:before {content: \"▸\";float: left;margin-right: 0.25em;color: #696969;}#sk-container-id-54 label.sk-toggleable__label-arrow:hover:before {color: black;}#sk-container-id-54 div.sk-estimator:hover label.sk-toggleable__label-arrow:before {color: black;}#sk-container-id-54 div.sk-toggleable__content {max-height: 0;max-width: 0;overflow: hidden;text-align: left;background-color: #f0f8ff;}#sk-container-id-54 div.sk-toggleable__content pre {margin: 0.2em;color: black;border-radius: 0.25em;background-color: #f0f8ff;}#sk-container-id-54 input.sk-toggleable__control:checked~div.sk-toggleable__content {max-height: 200px;max-width: 100%;overflow: auto;}#sk-container-id-54 input.sk-toggleable__control:checked~label.sk-toggleable__label-arrow:before {content: \"▾\";}#sk-container-id-54 div.sk-estimator input.sk-toggleable__control:checked~label.sk-toggleable__label {background-color: #d4ebff;}#sk-container-id-54 div.sk-label input.sk-toggleable__control:checked~label.sk-toggleable__label {background-color: #d4ebff;}#sk-container-id-54 input.sk-hidden--visually {border: 0;clip: rect(1px 1px 1px 1px);clip: rect(1px, 1px, 1px, 1px);height: 1px;margin: -1px;overflow: hidden;padding: 0;position: absolute;width: 1px;}#sk-container-id-54 div.sk-estimator {font-family: monospace;background-color: #f0f8ff;border: 1px dotted black;border-radius: 0.25em;box-sizing: border-box;margin-bottom: 0.5em;}#sk-container-id-54 div.sk-estimator:hover {background-color: #d4ebff;}#sk-container-id-54 div.sk-parallel-item::after {content: \"\";width: 100%;border-bottom: 1px solid gray;flex-grow: 1;}#sk-container-id-54 div.sk-label:hover label.sk-toggleable__label {background-color: #d4ebff;}#sk-container-id-54 div.sk-serial::before {content: \"\";position: absolute;border-left: 1px solid gray;box-sizing: border-box;top: 0;bottom: 0;left: 50%;z-index: 0;}#sk-container-id-54 div.sk-serial {display: flex;flex-direction: column;align-items: center;background-color: white;padding-right: 0.2em;padding-left: 0.2em;position: relative;}#sk-container-id-54 div.sk-item {position: relative;z-index: 1;}#sk-container-id-54 div.sk-parallel {display: flex;align-items: stretch;justify-content: center;background-color: white;position: relative;}#sk-container-id-54 div.sk-item::before, #sk-container-id-54 div.sk-parallel-item::before {content: \"\";position: absolute;border-left: 1px solid gray;box-sizing: border-box;top: 0;bottom: 0;left: 50%;z-index: -1;}#sk-container-id-54 div.sk-parallel-item {display: flex;flex-direction: column;z-index: 1;position: relative;background-color: white;}#sk-container-id-54 div.sk-parallel-item:first-child::after {align-self: flex-end;width: 50%;}#sk-container-id-54 div.sk-parallel-item:last-child::after {align-self: flex-start;width: 50%;}#sk-container-id-54 div.sk-parallel-item:only-child::after {width: 0;}#sk-container-id-54 div.sk-dashed-wrapped {border: 1px dashed gray;margin: 0 0.4em 0.5em 0.4em;box-sizing: border-box;padding-bottom: 0.4em;background-color: white;}#sk-container-id-54 div.sk-label label {font-family: monospace;font-weight: bold;display: inline-block;line-height: 1.2em;}#sk-container-id-54 div.sk-label-container {text-align: center;}#sk-container-id-54 div.sk-container {/* jupyter's `normalize.less` sets `[hidden] { display: none; }` but bootstrap.min.css set `[hidden] { display: none !important; }` so we also need the `!important` here to be able to override the default hidden behavior on the sphinx rendered scikit-learn.org. See: https://github.com/scikit-learn/scikit-learn/issues/21755 */display: inline-block !important;position: relative;}#sk-container-id-54 div.sk-text-repr-fallback {display: none;}</style><div id=\"sk-container-id-54\" class=\"sk-top-container\"><div class=\"sk-text-repr-fallback\"><pre>DecisionTreeRegressor(max_depth=6, min_impurity_decrease=0.03)</pre><b>In a Jupyter environment, please rerun this cell to show the HTML representation or trust the notebook. <br />On GitHub, the HTML representation is unable to render, please try loading this page with nbviewer.org.</b></div><div class=\"sk-container\" hidden><div class=\"sk-item\"><div class=\"sk-estimator sk-toggleable\"><input class=\"sk-toggleable__control sk-hidden--visually\" id=\"sk-estimator-id-54\" type=\"checkbox\" checked><label for=\"sk-estimator-id-54\" class=\"sk-toggleable__label sk-toggleable__label-arrow\">DecisionTreeRegressor</label><div class=\"sk-toggleable__content\"><pre>DecisionTreeRegressor(max_depth=6, min_impurity_decrease=0.03)</pre></div></div></div></div></div>"
      ],
      "text/plain": [
       "DecisionTreeRegressor(max_depth=6, min_impurity_decrease=0.03)"
      ]
     },
     "execution_count": 486,
     "metadata": {},
     "output_type": "execute_result"
    }
   ],
   "source": [
    "dtt.fit(x_train, y_train)"
   ]
  },
  {
   "cell_type": "code",
   "execution_count": 487,
   "id": "2af3d981",
   "metadata": {},
   "outputs": [
    {
     "data": {
      "text/plain": [
       "array([ 533.15789474,  772.72151899, 1024.5       , ...,  702.27005871,\n",
       "        354.38596491,  426.25      ])"
      ]
     },
     "execution_count": 487,
     "metadata": {},
     "output_type": "execute_result"
    }
   ],
   "source": [
    "y_pred_dtt = dtt.predict(x_test)\n",
    "y_pred_dtt"
   ]
  },
  {
   "cell_type": "code",
   "execution_count": 488,
   "id": "6ed09734",
   "metadata": {},
   "outputs": [],
   "source": [
    "# Evaluating Model Performance"
   ]
  },
  {
   "cell_type": "code",
   "execution_count": 489,
   "id": "2111fe22",
   "metadata": {},
   "outputs": [
    {
     "name": "stdout",
     "output_type": "stream",
     "text": [
      "Training Score = 0.5300394989188129\n",
      "Testing Score = 0.4637600159297466\n",
      "MAE = 193.4434920157816\n",
      "MSE = 65722.99349685125\n",
      "RMSE = 256.3649615233159\n",
      "R-squared = 0.4637600159297466\n"
     ]
    }
   ],
   "source": [
    "# Training Score\n",
    "Training_Score = dtt.score(x_train, y_train)\n",
    "print('Training Score =',Training_Score)\n",
    "\n",
    "# Testing Score\n",
    "Testing_Score = dtt.score(x_test, y_test)\n",
    "print('Testing Score =',Testing_Score)\n",
    "\n",
    "# Mean Absolute Error(MAE)\n",
    "MAE = metrics.mean_absolute_error(y_test, y_pred_dtt)\n",
    "print('MAE =',MAE)\n",
    "\n",
    "# Mean Square Error(MSE)\n",
    "MSE = metrics.mean_squared_error(y_test, y_pred_dtt)\n",
    "print('MSE =',MSE)\n",
    "\n",
    "# Root mean square error(RSME)\n",
    "RMSE = np.sqrt(MSE)\n",
    "print('RMSE =',RMSE)\n",
    "\n",
    "# R-squared(R2 Score)\n",
    "R2 = metrics.r2_score(y_test,y_pred_dtt)\n",
    "print('R-squared =',R2) "
   ]
  },
  {
   "cell_type": "markdown",
   "id": "3f81f135",
   "metadata": {},
   "source": [
    "## 4. Random Forest Regressor Model"
   ]
  },
  {
   "cell_type": "code",
   "execution_count": 490,
   "id": "fa22890b",
   "metadata": {},
   "outputs": [],
   "source": [
    "from sklearn.ensemble import RandomForestRegressor"
   ]
  },
  {
   "cell_type": "code",
   "execution_count": 491,
   "id": "4b91a013",
   "metadata": {},
   "outputs": [],
   "source": [
    "rf = RandomForestRegressor()"
   ]
  },
  {
   "cell_type": "code",
   "execution_count": 492,
   "id": "ab6cf93f",
   "metadata": {},
   "outputs": [
    {
     "data": {
      "text/html": [
       "<style>#sk-container-id-55 {color: black;}#sk-container-id-55 pre{padding: 0;}#sk-container-id-55 div.sk-toggleable {background-color: white;}#sk-container-id-55 label.sk-toggleable__label {cursor: pointer;display: block;width: 100%;margin-bottom: 0;padding: 0.3em;box-sizing: border-box;text-align: center;}#sk-container-id-55 label.sk-toggleable__label-arrow:before {content: \"▸\";float: left;margin-right: 0.25em;color: #696969;}#sk-container-id-55 label.sk-toggleable__label-arrow:hover:before {color: black;}#sk-container-id-55 div.sk-estimator:hover label.sk-toggleable__label-arrow:before {color: black;}#sk-container-id-55 div.sk-toggleable__content {max-height: 0;max-width: 0;overflow: hidden;text-align: left;background-color: #f0f8ff;}#sk-container-id-55 div.sk-toggleable__content pre {margin: 0.2em;color: black;border-radius: 0.25em;background-color: #f0f8ff;}#sk-container-id-55 input.sk-toggleable__control:checked~div.sk-toggleable__content {max-height: 200px;max-width: 100%;overflow: auto;}#sk-container-id-55 input.sk-toggleable__control:checked~label.sk-toggleable__label-arrow:before {content: \"▾\";}#sk-container-id-55 div.sk-estimator input.sk-toggleable__control:checked~label.sk-toggleable__label {background-color: #d4ebff;}#sk-container-id-55 div.sk-label input.sk-toggleable__control:checked~label.sk-toggleable__label {background-color: #d4ebff;}#sk-container-id-55 input.sk-hidden--visually {border: 0;clip: rect(1px 1px 1px 1px);clip: rect(1px, 1px, 1px, 1px);height: 1px;margin: -1px;overflow: hidden;padding: 0;position: absolute;width: 1px;}#sk-container-id-55 div.sk-estimator {font-family: monospace;background-color: #f0f8ff;border: 1px dotted black;border-radius: 0.25em;box-sizing: border-box;margin-bottom: 0.5em;}#sk-container-id-55 div.sk-estimator:hover {background-color: #d4ebff;}#sk-container-id-55 div.sk-parallel-item::after {content: \"\";width: 100%;border-bottom: 1px solid gray;flex-grow: 1;}#sk-container-id-55 div.sk-label:hover label.sk-toggleable__label {background-color: #d4ebff;}#sk-container-id-55 div.sk-serial::before {content: \"\";position: absolute;border-left: 1px solid gray;box-sizing: border-box;top: 0;bottom: 0;left: 50%;z-index: 0;}#sk-container-id-55 div.sk-serial {display: flex;flex-direction: column;align-items: center;background-color: white;padding-right: 0.2em;padding-left: 0.2em;position: relative;}#sk-container-id-55 div.sk-item {position: relative;z-index: 1;}#sk-container-id-55 div.sk-parallel {display: flex;align-items: stretch;justify-content: center;background-color: white;position: relative;}#sk-container-id-55 div.sk-item::before, #sk-container-id-55 div.sk-parallel-item::before {content: \"\";position: absolute;border-left: 1px solid gray;box-sizing: border-box;top: 0;bottom: 0;left: 50%;z-index: -1;}#sk-container-id-55 div.sk-parallel-item {display: flex;flex-direction: column;z-index: 1;position: relative;background-color: white;}#sk-container-id-55 div.sk-parallel-item:first-child::after {align-self: flex-end;width: 50%;}#sk-container-id-55 div.sk-parallel-item:last-child::after {align-self: flex-start;width: 50%;}#sk-container-id-55 div.sk-parallel-item:only-child::after {width: 0;}#sk-container-id-55 div.sk-dashed-wrapped {border: 1px dashed gray;margin: 0 0.4em 0.5em 0.4em;box-sizing: border-box;padding-bottom: 0.4em;background-color: white;}#sk-container-id-55 div.sk-label label {font-family: monospace;font-weight: bold;display: inline-block;line-height: 1.2em;}#sk-container-id-55 div.sk-label-container {text-align: center;}#sk-container-id-55 div.sk-container {/* jupyter's `normalize.less` sets `[hidden] { display: none; }` but bootstrap.min.css set `[hidden] { display: none !important; }` so we also need the `!important` here to be able to override the default hidden behavior on the sphinx rendered scikit-learn.org. See: https://github.com/scikit-learn/scikit-learn/issues/21755 */display: inline-block !important;position: relative;}#sk-container-id-55 div.sk-text-repr-fallback {display: none;}</style><div id=\"sk-container-id-55\" class=\"sk-top-container\"><div class=\"sk-text-repr-fallback\"><pre>RandomForestRegressor()</pre><b>In a Jupyter environment, please rerun this cell to show the HTML representation or trust the notebook. <br />On GitHub, the HTML representation is unable to render, please try loading this page with nbviewer.org.</b></div><div class=\"sk-container\" hidden><div class=\"sk-item\"><div class=\"sk-estimator sk-toggleable\"><input class=\"sk-toggleable__control sk-hidden--visually\" id=\"sk-estimator-id-55\" type=\"checkbox\" checked><label for=\"sk-estimator-id-55\" class=\"sk-toggleable__label sk-toggleable__label-arrow\">RandomForestRegressor</label><div class=\"sk-toggleable__content\"><pre>RandomForestRegressor()</pre></div></div></div></div></div>"
      ],
      "text/plain": [
       "RandomForestRegressor()"
      ]
     },
     "execution_count": 492,
     "metadata": {},
     "output_type": "execute_result"
    }
   ],
   "source": [
    "rf.fit(x_train, y_train)"
   ]
  },
  {
   "cell_type": "code",
   "execution_count": 493,
   "id": "49d7b15d",
   "metadata": {},
   "outputs": [
    {
     "data": {
      "text/plain": [
       "array([490.   , 968.   , 906.5  , ..., 777.275, 432.2  , 458.   ])"
      ]
     },
     "execution_count": 493,
     "metadata": {},
     "output_type": "execute_result"
    }
   ],
   "source": [
    "y_pred_rf = rf.predict(x_test)\n",
    "y_pred_rf"
   ]
  },
  {
   "cell_type": "code",
   "execution_count": 494,
   "id": "e9e5bbe0",
   "metadata": {},
   "outputs": [
    {
     "name": "stdout",
     "output_type": "stream",
     "text": [
      "Training Score = 0.9109103415873354\n",
      "Testing Score = 0.47773750578148433\n",
      "MAE = 190.49565177852304\n",
      "MSE = 64009.87529992898\n",
      "RMSE = 253.00172983584318\n",
      "R-squared = 0.47773750578148433\n"
     ]
    }
   ],
   "source": [
    "# Training Score\n",
    "Training_Score = rf.score(x_train, y_train)\n",
    "print('Training Score =',Training_Score)\n",
    "\n",
    "# Testing Score\n",
    "Testing_Score = rf.score(x_test, y_test)\n",
    "print('Testing Score =',Testing_Score)\n",
    "\n",
    "# Mean Absolute Error(MAE)\n",
    "MAE = metrics.mean_absolute_error(y_test, y_pred_rf)\n",
    "print('MAE =',MAE)\n",
    "\n",
    "# Mean Square Error(MSE)\n",
    "MSE = metrics.mean_squared_error(y_test, y_pred_rf)\n",
    "print('MSE =',MSE)\n",
    "\n",
    "# Root mean square error(RSME)\n",
    "RMSE = np.sqrt(MSE)\n",
    "print('RMSE =',RMSE)\n",
    "\n",
    "# R-squared(R2 Score)\n",
    "R2 = metrics.r2_score(y_test,y_pred_rf)\n",
    "print('R-squared =',R2) "
   ]
  },
  {
   "cell_type": "markdown",
   "id": "03827876",
   "metadata": {},
   "source": [
    "# 5. Perform PCA on the data."
   ]
  },
  {
   "cell_type": "code",
   "execution_count": 495,
   "id": "edd2714e",
   "metadata": {},
   "outputs": [],
   "source": [
    "from sklearn.decomposition import PCA"
   ]
  },
  {
   "cell_type": "code",
   "execution_count": 496,
   "id": "15da4407",
   "metadata": {},
   "outputs": [
    {
     "data": {
      "text/html": [
       "<style>#sk-container-id-56 {color: black;}#sk-container-id-56 pre{padding: 0;}#sk-container-id-56 div.sk-toggleable {background-color: white;}#sk-container-id-56 label.sk-toggleable__label {cursor: pointer;display: block;width: 100%;margin-bottom: 0;padding: 0.3em;box-sizing: border-box;text-align: center;}#sk-container-id-56 label.sk-toggleable__label-arrow:before {content: \"▸\";float: left;margin-right: 0.25em;color: #696969;}#sk-container-id-56 label.sk-toggleable__label-arrow:hover:before {color: black;}#sk-container-id-56 div.sk-estimator:hover label.sk-toggleable__label-arrow:before {color: black;}#sk-container-id-56 div.sk-toggleable__content {max-height: 0;max-width: 0;overflow: hidden;text-align: left;background-color: #f0f8ff;}#sk-container-id-56 div.sk-toggleable__content pre {margin: 0.2em;color: black;border-radius: 0.25em;background-color: #f0f8ff;}#sk-container-id-56 input.sk-toggleable__control:checked~div.sk-toggleable__content {max-height: 200px;max-width: 100%;overflow: auto;}#sk-container-id-56 input.sk-toggleable__control:checked~label.sk-toggleable__label-arrow:before {content: \"▾\";}#sk-container-id-56 div.sk-estimator input.sk-toggleable__control:checked~label.sk-toggleable__label {background-color: #d4ebff;}#sk-container-id-56 div.sk-label input.sk-toggleable__control:checked~label.sk-toggleable__label {background-color: #d4ebff;}#sk-container-id-56 input.sk-hidden--visually {border: 0;clip: rect(1px 1px 1px 1px);clip: rect(1px, 1px, 1px, 1px);height: 1px;margin: -1px;overflow: hidden;padding: 0;position: absolute;width: 1px;}#sk-container-id-56 div.sk-estimator {font-family: monospace;background-color: #f0f8ff;border: 1px dotted black;border-radius: 0.25em;box-sizing: border-box;margin-bottom: 0.5em;}#sk-container-id-56 div.sk-estimator:hover {background-color: #d4ebff;}#sk-container-id-56 div.sk-parallel-item::after {content: \"\";width: 100%;border-bottom: 1px solid gray;flex-grow: 1;}#sk-container-id-56 div.sk-label:hover label.sk-toggleable__label {background-color: #d4ebff;}#sk-container-id-56 div.sk-serial::before {content: \"\";position: absolute;border-left: 1px solid gray;box-sizing: border-box;top: 0;bottom: 0;left: 50%;z-index: 0;}#sk-container-id-56 div.sk-serial {display: flex;flex-direction: column;align-items: center;background-color: white;padding-right: 0.2em;padding-left: 0.2em;position: relative;}#sk-container-id-56 div.sk-item {position: relative;z-index: 1;}#sk-container-id-56 div.sk-parallel {display: flex;align-items: stretch;justify-content: center;background-color: white;position: relative;}#sk-container-id-56 div.sk-item::before, #sk-container-id-56 div.sk-parallel-item::before {content: \"\";position: absolute;border-left: 1px solid gray;box-sizing: border-box;top: 0;bottom: 0;left: 50%;z-index: -1;}#sk-container-id-56 div.sk-parallel-item {display: flex;flex-direction: column;z-index: 1;position: relative;background-color: white;}#sk-container-id-56 div.sk-parallel-item:first-child::after {align-self: flex-end;width: 50%;}#sk-container-id-56 div.sk-parallel-item:last-child::after {align-self: flex-start;width: 50%;}#sk-container-id-56 div.sk-parallel-item:only-child::after {width: 0;}#sk-container-id-56 div.sk-dashed-wrapped {border: 1px dashed gray;margin: 0 0.4em 0.5em 0.4em;box-sizing: border-box;padding-bottom: 0.4em;background-color: white;}#sk-container-id-56 div.sk-label label {font-family: monospace;font-weight: bold;display: inline-block;line-height: 1.2em;}#sk-container-id-56 div.sk-label-container {text-align: center;}#sk-container-id-56 div.sk-container {/* jupyter's `normalize.less` sets `[hidden] { display: none; }` but bootstrap.min.css set `[hidden] { display: none !important; }` so we also need the `!important` here to be able to override the default hidden behavior on the sphinx rendered scikit-learn.org. See: https://github.com/scikit-learn/scikit-learn/issues/21755 */display: inline-block !important;position: relative;}#sk-container-id-56 div.sk-text-repr-fallback {display: none;}</style><div id=\"sk-container-id-56\" class=\"sk-top-container\"><div class=\"sk-text-repr-fallback\"><pre>PCA(n_components=23)</pre><b>In a Jupyter environment, please rerun this cell to show the HTML representation or trust the notebook. <br />On GitHub, the HTML representation is unable to render, please try loading this page with nbviewer.org.</b></div><div class=\"sk-container\" hidden><div class=\"sk-item\"><div class=\"sk-estimator sk-toggleable\"><input class=\"sk-toggleable__control sk-hidden--visually\" id=\"sk-estimator-id-56\" type=\"checkbox\" checked><label for=\"sk-estimator-id-56\" class=\"sk-toggleable__label sk-toggleable__label-arrow\">PCA</label><div class=\"sk-toggleable__content\"><pre>PCA(n_components=23)</pre></div></div></div></div></div>"
      ],
      "text/plain": [
       "PCA(n_components=23)"
      ]
     },
     "execution_count": 496,
     "metadata": {},
     "output_type": "execute_result"
    }
   ],
   "source": [
    "pca=PCA(n_components=23)\n",
    "pca.fit(x_train,y_train)"
   ]
  },
  {
   "cell_type": "code",
   "execution_count": 497,
   "id": "d2b00f24",
   "metadata": {},
   "outputs": [
    {
     "data": {
      "text/plain": [
       "array([1.25535138e+00, 1.09774803e+00, 6.78204387e-01, 2.48521497e-01,\n",
       "       2.08884392e-01, 1.22595094e-01, 1.14520655e-01, 7.82674877e-02,\n",
       "       6.77801424e-02, 5.92396155e-02, 5.56389520e-02, 4.55245164e-02,\n",
       "       3.21786144e-02, 2.59609077e-02, 2.40540706e-02, 2.23851989e-02,\n",
       "       2.05141239e-02, 1.82685626e-02, 1.58354573e-02, 1.32447886e-02,\n",
       "       7.55683857e-03, 9.50200848e-04, 5.56287839e-04])"
      ]
     },
     "execution_count": 497,
     "metadata": {},
     "output_type": "execute_result"
    }
   ],
   "source": [
    "pca.explained_variance_"
   ]
  },
  {
   "cell_type": "code",
   "execution_count": 498,
   "id": "cb3895ea",
   "metadata": {},
   "outputs": [
    {
     "data": {
      "text/plain": [
       "[<matplotlib.lines.Line2D at 0x217bbee7580>]"
      ]
     },
     "execution_count": 498,
     "metadata": {},
     "output_type": "execute_result"
    },
    {
     "data": {
      "image/png": "[encoded data removed]",
      "text/plain": [
       "<Figure size 640x480 with 1 Axes>"
      ]
     },
     "metadata": {},
     "output_type": "display_data"
    }
   ],
   "source": [
    "plt.step(x=np.arange(23),y=np.cumsum(pca.explained_variance_ratio_),where='mid')"
   ]
  },
  {
   "cell_type": "code",
   "execution_count": 499,
   "id": "d8b2c8e1",
   "metadata": {},
   "outputs": [
    {
     "data": {
      "text/html": [
       "<style>#sk-container-id-57 {color: black;}#sk-container-id-57 pre{padding: 0;}#sk-container-id-57 div.sk-toggleable {background-color: white;}#sk-container-id-57 label.sk-toggleable__label {cursor: pointer;display: block;width: 100%;margin-bottom: 0;padding: 0.3em;box-sizing: border-box;text-align: center;}#sk-container-id-57 label.sk-toggleable__label-arrow:before {content: \"▸\";float: left;margin-right: 0.25em;color: #696969;}#sk-container-id-57 label.sk-toggleable__label-arrow:hover:before {color: black;}#sk-container-id-57 div.sk-estimator:hover label.sk-toggleable__label-arrow:before {color: black;}#sk-container-id-57 div.sk-toggleable__content {max-height: 0;max-width: 0;overflow: hidden;text-align: left;background-color: #f0f8ff;}#sk-container-id-57 div.sk-toggleable__content pre {margin: 0.2em;color: black;border-radius: 0.25em;background-color: #f0f8ff;}#sk-container-id-57 input.sk-toggleable__control:checked~div.sk-toggleable__content {max-height: 200px;max-width: 100%;overflow: auto;}#sk-container-id-57 input.sk-toggleable__control:checked~label.sk-toggleable__label-arrow:before {content: \"▾\";}#sk-container-id-57 div.sk-estimator input.sk-toggleable__control:checked~label.sk-toggleable__label {background-color: #d4ebff;}#sk-container-id-57 div.sk-label input.sk-toggleable__control:checked~label.sk-toggleable__label {background-color: #d4ebff;}#sk-container-id-57 input.sk-hidden--visually {border: 0;clip: rect(1px 1px 1px 1px);clip: rect(1px, 1px, 1px, 1px);height: 1px;margin: -1px;overflow: hidden;padding: 0;position: absolute;width: 1px;}#sk-container-id-57 div.sk-estimator {font-family: monospace;background-color: #f0f8ff;border: 1px dotted black;border-radius: 0.25em;box-sizing: border-box;margin-bottom: 0.5em;}#sk-container-id-57 div.sk-estimator:hover {background-color: #d4ebff;}#sk-container-id-57 div.sk-parallel-item::after {content: \"\";width: 100%;border-bottom: 1px solid gray;flex-grow: 1;}#sk-container-id-57 div.sk-label:hover label.sk-toggleable__label {background-color: #d4ebff;}#sk-container-id-57 div.sk-serial::before {content: \"\";position: absolute;border-left: 1px solid gray;box-sizing: border-box;top: 0;bottom: 0;left: 50%;z-index: 0;}#sk-container-id-57 div.sk-serial {display: flex;flex-direction: column;align-items: center;background-color: white;padding-right: 0.2em;padding-left: 0.2em;position: relative;}#sk-container-id-57 div.sk-item {position: relative;z-index: 1;}#sk-container-id-57 div.sk-parallel {display: flex;align-items: stretch;justify-content: center;background-color: white;position: relative;}#sk-container-id-57 div.sk-item::before, #sk-container-id-57 div.sk-parallel-item::before {content: \"\";position: absolute;border-left: 1px solid gray;box-sizing: border-box;top: 0;bottom: 0;left: 50%;z-index: -1;}#sk-container-id-57 div.sk-parallel-item {display: flex;flex-direction: column;z-index: 1;position: relative;background-color: white;}#sk-container-id-57 div.sk-parallel-item:first-child::after {align-self: flex-end;width: 50%;}#sk-container-id-57 div.sk-parallel-item:last-child::after {align-self: flex-start;width: 50%;}#sk-container-id-57 div.sk-parallel-item:only-child::after {width: 0;}#sk-container-id-57 div.sk-dashed-wrapped {border: 1px dashed gray;margin: 0 0.4em 0.5em 0.4em;box-sizing: border-box;padding-bottom: 0.4em;background-color: white;}#sk-container-id-57 div.sk-label label {font-family: monospace;font-weight: bold;display: inline-block;line-height: 1.2em;}#sk-container-id-57 div.sk-label-container {text-align: center;}#sk-container-id-57 div.sk-container {/* jupyter's `normalize.less` sets `[hidden] { display: none; }` but bootstrap.min.css set `[hidden] { display: none !important; }` so we also need the `!important` here to be able to override the default hidden behavior on the sphinx rendered scikit-learn.org. See: https://github.com/scikit-learn/scikit-learn/issues/21755 */display: inline-block !important;position: relative;}#sk-container-id-57 div.sk-text-repr-fallback {display: none;}</style><div id=\"sk-container-id-57\" class=\"sk-top-container\"><div class=\"sk-text-repr-fallback\"><pre>PCA(n_components=13)</pre><b>In a Jupyter environment, please rerun this cell to show the HTML representation or trust the notebook. <br />On GitHub, the HTML representation is unable to render, please try loading this page with nbviewer.org.</b></div><div class=\"sk-container\" hidden><div class=\"sk-item\"><div class=\"sk-estimator sk-toggleable\"><input class=\"sk-toggleable__control sk-hidden--visually\" id=\"sk-estimator-id-57\" type=\"checkbox\" checked><label for=\"sk-estimator-id-57\" class=\"sk-toggleable__label sk-toggleable__label-arrow\">PCA</label><div class=\"sk-toggleable__content\"><pre>PCA(n_components=13)</pre></div></div></div></div></div>"
      ],
      "text/plain": [
       "PCA(n_components=13)"
      ]
     },
     "execution_count": 499,
     "metadata": {},
     "output_type": "execute_result"
    }
   ],
   "source": [
    "pca=PCA(n_components=13)\n",
    "pca.fit(x_train,y_train)"
   ]
  },
  {
   "cell_type": "code",
   "execution_count": 500,
   "id": "9493fec0",
   "metadata": {},
   "outputs": [
    {
     "data": {
      "text/plain": [
       "array([1.25535138, 1.09774803, 0.67820439, 0.2485215 , 0.20888439,\n",
       "       0.12259509, 0.11452065, 0.07826749, 0.06778014, 0.05923962,\n",
       "       0.05563895, 0.04552452, 0.03217861])"
      ]
     },
     "execution_count": 500,
     "metadata": {},
     "output_type": "execute_result"
    }
   ],
   "source": [
    "pca.explained_variance_"
   ]
  },
  {
   "cell_type": "code",
   "execution_count": 501,
   "id": "6efe9493",
   "metadata": {
    "scrolled": true
   },
   "outputs": [
    {
     "data": {
      "text/plain": [
       "[<matplotlib.lines.Line2D at 0x217bbf605e0>]"
      ]
     },
     "execution_count": 501,
     "metadata": {},
     "output_type": "execute_result"
    },
    {
     "data": {
      "image/png": "[encoded data removed]",
      "text/plain": [
       "<Figure size 640x480 with 1 Axes>"
      ]
     },
     "metadata": {},
     "output_type": "display_data"
    }
   ],
   "source": [
    "plt.step(x=np.arange(13),y=np.cumsum(pca.explained_variance_ratio_),where='mid')"
   ]
  },
  {
   "cell_type": "code",
   "execution_count": 502,
   "id": "957d2107",
   "metadata": {},
   "outputs": [],
   "source": [
    "pca13=PCA(n_components=13)"
   ]
  },
  {
   "cell_type": "code",
   "execution_count": 503,
   "id": "4f0aa84b",
   "metadata": {},
   "outputs": [],
   "source": [
    "pca_x=pca13.fit_transform(x)\n",
    "# pca_x"
   ]
  },
  {
   "cell_type": "code",
   "execution_count": 504,
   "id": "05d4bd98",
   "metadata": {},
   "outputs": [],
   "source": [
    "from sklearn.model_selection import train_test_split"
   ]
  },
  {
   "cell_type": "code",
   "execution_count": 505,
   "id": "88cc6c49",
   "metadata": {},
   "outputs": [],
   "source": [
    "x_train, x_test, y_train, y_test = train_test_split(pca_x, y, test_size=0.3, random_state=12)"
   ]
  },
  {
   "cell_type": "code",
   "execution_count": 506,
   "id": "2b4958c2",
   "metadata": {},
   "outputs": [
    {
     "data": {
      "text/html": [
       "<style>#sk-container-id-58 {color: black;}#sk-container-id-58 pre{padding: 0;}#sk-container-id-58 div.sk-toggleable {background-color: white;}#sk-container-id-58 label.sk-toggleable__label {cursor: pointer;display: block;width: 100%;margin-bottom: 0;padding: 0.3em;box-sizing: border-box;text-align: center;}#sk-container-id-58 label.sk-toggleable__label-arrow:before {content: \"▸\";float: left;margin-right: 0.25em;color: #696969;}#sk-container-id-58 label.sk-toggleable__label-arrow:hover:before {color: black;}#sk-container-id-58 div.sk-estimator:hover label.sk-toggleable__label-arrow:before {color: black;}#sk-container-id-58 div.sk-toggleable__content {max-height: 0;max-width: 0;overflow: hidden;text-align: left;background-color: #f0f8ff;}#sk-container-id-58 div.sk-toggleable__content pre {margin: 0.2em;color: black;border-radius: 0.25em;background-color: #f0f8ff;}#sk-container-id-58 input.sk-toggleable__control:checked~div.sk-toggleable__content {max-height: 200px;max-width: 100%;overflow: auto;}#sk-container-id-58 input.sk-toggleable__control:checked~label.sk-toggleable__label-arrow:before {content: \"▾\";}#sk-container-id-58 div.sk-estimator input.sk-toggleable__control:checked~label.sk-toggleable__label {background-color: #d4ebff;}#sk-container-id-58 div.sk-label input.sk-toggleable__control:checked~label.sk-toggleable__label {background-color: #d4ebff;}#sk-container-id-58 input.sk-hidden--visually {border: 0;clip: rect(1px 1px 1px 1px);clip: rect(1px, 1px, 1px, 1px);height: 1px;margin: -1px;overflow: hidden;padding: 0;position: absolute;width: 1px;}#sk-container-id-58 div.sk-estimator {font-family: monospace;background-color: #f0f8ff;border: 1px dotted black;border-radius: 0.25em;box-sizing: border-box;margin-bottom: 0.5em;}#sk-container-id-58 div.sk-estimator:hover {background-color: #d4ebff;}#sk-container-id-58 div.sk-parallel-item::after {content: \"\";width: 100%;border-bottom: 1px solid gray;flex-grow: 1;}#sk-container-id-58 div.sk-label:hover label.sk-toggleable__label {background-color: #d4ebff;}#sk-container-id-58 div.sk-serial::before {content: \"\";position: absolute;border-left: 1px solid gray;box-sizing: border-box;top: 0;bottom: 0;left: 50%;z-index: 0;}#sk-container-id-58 div.sk-serial {display: flex;flex-direction: column;align-items: center;background-color: white;padding-right: 0.2em;padding-left: 0.2em;position: relative;}#sk-container-id-58 div.sk-item {position: relative;z-index: 1;}#sk-container-id-58 div.sk-parallel {display: flex;align-items: stretch;justify-content: center;background-color: white;position: relative;}#sk-container-id-58 div.sk-item::before, #sk-container-id-58 div.sk-parallel-item::before {content: \"\";position: absolute;border-left: 1px solid gray;box-sizing: border-box;top: 0;bottom: 0;left: 50%;z-index: -1;}#sk-container-id-58 div.sk-parallel-item {display: flex;flex-direction: column;z-index: 1;position: relative;background-color: white;}#sk-container-id-58 div.sk-parallel-item:first-child::after {align-self: flex-end;width: 50%;}#sk-container-id-58 div.sk-parallel-item:last-child::after {align-self: flex-start;width: 50%;}#sk-container-id-58 div.sk-parallel-item:only-child::after {width: 0;}#sk-container-id-58 div.sk-dashed-wrapped {border: 1px dashed gray;margin: 0 0.4em 0.5em 0.4em;box-sizing: border-box;padding-bottom: 0.4em;background-color: white;}#sk-container-id-58 div.sk-label label {font-family: monospace;font-weight: bold;display: inline-block;line-height: 1.2em;}#sk-container-id-58 div.sk-label-container {text-align: center;}#sk-container-id-58 div.sk-container {/* jupyter's `normalize.less` sets `[hidden] { display: none; }` but bootstrap.min.css set `[hidden] { display: none !important; }` so we also need the `!important` here to be able to override the default hidden behavior on the sphinx rendered scikit-learn.org. See: https://github.com/scikit-learn/scikit-learn/issues/21755 */display: inline-block !important;position: relative;}#sk-container-id-58 div.sk-text-repr-fallback {display: none;}</style><div id=\"sk-container-id-58\" class=\"sk-top-container\"><div class=\"sk-text-repr-fallback\"><pre>LinearRegression()</pre><b>In a Jupyter environment, please rerun this cell to show the HTML representation or trust the notebook. <br />On GitHub, the HTML representation is unable to render, please try loading this page with nbviewer.org.</b></div><div class=\"sk-container\" hidden><div class=\"sk-item\"><div class=\"sk-estimator sk-toggleable\"><input class=\"sk-toggleable__control sk-hidden--visually\" id=\"sk-estimator-id-58\" type=\"checkbox\" checked><label for=\"sk-estimator-id-58\" class=\"sk-toggleable__label sk-toggleable__label-arrow\">LinearRegression</label><div class=\"sk-toggleable__content\"><pre>LinearRegression()</pre></div></div></div></div></div>"
      ],
      "text/plain": [
       "LinearRegression()"
      ]
     },
     "execution_count": 506,
     "metadata": {},
     "output_type": "execute_result"
    }
   ],
   "source": [
    "lr.fit(x_train, y_train)"
   ]
  },
  {
   "cell_type": "code",
   "execution_count": 507,
   "id": "db2148ba",
   "metadata": {},
   "outputs": [
    {
     "data": {
      "text/plain": [
       "array([ 517.20133014, 1093.32161475,  956.70672741, ...,  831.3645746 ,\n",
       "        306.6982733 ,  575.54872123])"
      ]
     },
     "execution_count": 507,
     "metadata": {},
     "output_type": "execute_result"
    }
   ],
   "source": [
    "y_pred = lr.predict(x_test)\n",
    "y_pred"
   ]
  },
  {
   "cell_type": "code",
   "execution_count": 508,
   "id": "22d93bcf",
   "metadata": {},
   "outputs": [
    {
     "name": "stdout",
     "output_type": "stream",
     "text": [
      "R2_score = 0.510148167886454\n"
     ]
    }
   ],
   "source": [
    "# R-squared(R2 Score)\n",
    "R2 = metrics.r2_score(y_test,y_pred)\n",
    "print('R2_score =',R2) "
   ]
  }
 ],
 "metadata": {
  "kernelspec": {
   "display_name": "Python 3 (ipykernel)",
   "language": "python",
   "name": "python3"
  },
  "language_info": {
   "codemirror_mode": {
    "name": "ipython",
    "version": 3
   },
   "file_extension": ".py",
   "mimetype": "text/x-python",
   "name": "python",
   "nbconvert_exporter": "python",
   "pygments_lexer": "ipython3",
   "version": "3.9.13"
  }
 },
 "nbformat": 4,
 "nbformat_minor": 5
}
